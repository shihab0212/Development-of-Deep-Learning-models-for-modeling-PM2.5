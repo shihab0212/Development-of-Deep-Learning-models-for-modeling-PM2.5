{
 "cells": [
  {
   "cell_type": "markdown",
   "metadata": {},
   "source": [
    "### Facebook Prophet"
   ]
  },
  {
   "cell_type": "code",
   "execution_count": 10,
   "metadata": {},
   "outputs": [],
   "source": [
    "import pandas as pd\n",
    "import numpy as np\n",
    "import matplotlib.pyplot as plt\n",
    "import seaborn as sns\n",
    "import json\n",
    "import utils\n",
    "import itertools\n",
    "import numpy as np\n",
    "import pandas as pd\n",
    "import pickle\n",
    "import os\n",
    "\n",
    "import statsmodels.api as sm\n",
    "# import warnings\n",
    "# warnings.filterwarnings(\"ignore\")\n",
    "\n",
    "from pylab import rcParams\n",
    "\n",
    "\n",
    "from datetime import datetime\n",
    "from sklearn.metrics import mean_squared_error, r2_score, mean_absolute_error\n",
    "from timeit import default_timer as timer\n",
    "\n",
    "# prophet preformance\n",
    "from fbprophet import Prophet\n",
    "from fbprophet.diagnostics import cross_validation\n",
    "from fbprophet.diagnostics import performance_metrics\n",
    "from fbprophet.plot import plot_cross_validation_metric\n",
    "json_path = 'init_params.json'\n",
    "\n",
    "#Hyperopt\n",
    "from hyperopt import hp, fmin, tpe\n",
    "from hyperopt import STATUS_OK\n",
    "from timeit import default_timer as timer\n",
    "from hyperopt import Trials\n",
    "\n",
    "params = utils.Params(json_path)"
   ]
  },
  {
   "cell_type": "code",
   "execution_count": 11,
   "metadata": {},
   "outputs": [
    {
     "data": {
      "text/plain": [
       "'final_models'"
      ]
     },
     "execution_count": 11,
     "metadata": {},
     "output_type": "execute_result"
    }
   ],
   "source": [
    "params.model_save_folder_name"
   ]
  },
  {
   "cell_type": "code",
   "execution_count": 18,
   "metadata": {},
   "outputs": [
    {
     "data": {
      "text/plain": [
       "50"
      ]
     },
     "execution_count": 18,
     "metadata": {},
     "output_type": "execute_result"
    }
   ],
   "source": [
    "params.max_number_of_trials"
   ]
  },
  {
   "cell_type": "code",
   "execution_count": 12,
   "metadata": {},
   "outputs": [],
   "source": [
    "def create_directory(save_path):\n",
    "    if not os.path.exists(save_path):\n",
    "        os.makedirs(save_path)\n",
    "        \n",
    "create_directory(os.path.join(params.dataset, params.model_save_folder_name))"
   ]
  },
  {
   "cell_type": "code",
   "execution_count": 13,
   "metadata": {},
   "outputs": [
    {
     "data": {
      "text/html": [
       "<div>\n",
       "<style scoped>\n",
       "    .dataframe tbody tr th:only-of-type {\n",
       "        vertical-align: middle;\n",
       "    }\n",
       "\n",
       "    .dataframe tbody tr th {\n",
       "        vertical-align: top;\n",
       "    }\n",
       "\n",
       "    .dataframe thead th {\n",
       "        text-align: right;\n",
       "    }\n",
       "</style>\n",
       "<table border=\"1\" class=\"dataframe\">\n",
       "  <thead>\n",
       "    <tr style=\"text-align: right;\">\n",
       "      <th></th>\n",
       "      <th>Date</th>\n",
       "      <th>PM2.5</th>\n",
       "      <th>PM10</th>\n",
       "      <th>SO2</th>\n",
       "      <th>CO</th>\n",
       "      <th>NOx</th>\n",
       "      <th>O3</th>\n",
       "      <th>WS</th>\n",
       "      <th>Temp</th>\n",
       "      <th>RH</th>\n",
       "      <th>RF</th>\n",
       "    </tr>\n",
       "  </thead>\n",
       "  <tbody>\n",
       "    <tr>\n",
       "      <th>0</th>\n",
       "      <td>2013-01-01</td>\n",
       "      <td>240.365653</td>\n",
       "      <td>404.141923</td>\n",
       "      <td>4.0392</td>\n",
       "      <td>0.3567</td>\n",
       "      <td>19.6254</td>\n",
       "      <td>6.5769</td>\n",
       "      <td>1.3795</td>\n",
       "      <td>17.8800</td>\n",
       "      <td>69.8887</td>\n",
       "      <td>0.0583</td>\n",
       "    </tr>\n",
       "    <tr>\n",
       "      <th>1</th>\n",
       "      <td>2013-01-02</td>\n",
       "      <td>267.760636</td>\n",
       "      <td>447.535746</td>\n",
       "      <td>3.9436</td>\n",
       "      <td>0.3086</td>\n",
       "      <td>13.4329</td>\n",
       "      <td>4.5049</td>\n",
       "      <td>1.4104</td>\n",
       "      <td>18.6961</td>\n",
       "      <td>67.1973</td>\n",
       "      <td>0.0467</td>\n",
       "    </tr>\n",
       "    <tr>\n",
       "      <th>2</th>\n",
       "      <td>2013-01-03</td>\n",
       "      <td>262.088263</td>\n",
       "      <td>449.070512</td>\n",
       "      <td>3.8702</td>\n",
       "      <td>0.3405</td>\n",
       "      <td>16.0926</td>\n",
       "      <td>5.3954</td>\n",
       "      <td>1.6614</td>\n",
       "      <td>20.0829</td>\n",
       "      <td>68.4158</td>\n",
       "      <td>0.0482</td>\n",
       "    </tr>\n",
       "    <tr>\n",
       "      <th>3</th>\n",
       "      <td>2013-01-04</td>\n",
       "      <td>222.661851</td>\n",
       "      <td>372.724157</td>\n",
       "      <td>4.2239</td>\n",
       "      <td>0.3858</td>\n",
       "      <td>19.5855</td>\n",
       "      <td>6.5480</td>\n",
       "      <td>1.2790</td>\n",
       "      <td>20.1200</td>\n",
       "      <td>70.4625</td>\n",
       "      <td>0.0226</td>\n",
       "    </tr>\n",
       "    <tr>\n",
       "      <th>4</th>\n",
       "      <td>2013-01-05</td>\n",
       "      <td>164.089142</td>\n",
       "      <td>278.164502</td>\n",
       "      <td>4.0392</td>\n",
       "      <td>0.5365</td>\n",
       "      <td>31.8197</td>\n",
       "      <td>10.6209</td>\n",
       "      <td>1.3413</td>\n",
       "      <td>18.7043</td>\n",
       "      <td>62.1733</td>\n",
       "      <td>0.0200</td>\n",
       "    </tr>\n",
       "  </tbody>\n",
       "</table>\n",
       "</div>"
      ],
      "text/plain": [
       "        Date       PM2.5        PM10     SO2      CO      NOx       O3  \\\n",
       "0 2013-01-01  240.365653  404.141923  4.0392  0.3567  19.6254   6.5769   \n",
       "1 2013-01-02  267.760636  447.535746  3.9436  0.3086  13.4329   4.5049   \n",
       "2 2013-01-03  262.088263  449.070512  3.8702  0.3405  16.0926   5.3954   \n",
       "3 2013-01-04  222.661851  372.724157  4.2239  0.3858  19.5855   6.5480   \n",
       "4 2013-01-05  164.089142  278.164502  4.0392  0.5365  31.8197  10.6209   \n",
       "\n",
       "       WS     Temp       RH      RF  \n",
       "0  1.3795  17.8800  69.8887  0.0583  \n",
       "1  1.4104  18.6961  67.1973  0.0467  \n",
       "2  1.6614  20.0829  68.4158  0.0482  \n",
       "3  1.2790  20.1200  70.4625  0.0226  \n",
       "4  1.3413  18.7043  62.1733  0.0200  "
      ]
     },
     "execution_count": 13,
     "metadata": {},
     "output_type": "execute_result"
    }
   ],
   "source": [
    "df_org = pd.read_csv(params.csv_path)\n",
    "df_org['Date'] = pd.to_datetime(df_org['Date'].astype(str), format='%Y-%m-%d')\n",
    "df_org.head(5)"
   ]
  },
  {
   "cell_type": "markdown",
   "metadata": {},
   "source": [
    "### EDA"
   ]
  },
  {
   "cell_type": "code",
   "execution_count": 14,
   "metadata": {},
   "outputs": [],
   "source": [
    "df_org.columns = ['ds','y','PM10', 'SO2', 'CO', 'NOx', 'O3', 'WS', 'Temp', 'RH', 'RF']\n",
    "regressors = ['WS','Temp','RH','RF','NOx','SO2','O3','CO']"
   ]
  },
  {
   "cell_type": "code",
   "execution_count": 15,
   "metadata": {},
   "outputs": [
    {
     "data": {
      "image/png": "[encoded data removed]",
      "text/plain": [
       "<Figure size 1152x288 with 1 Axes>"
      ]
     },
     "metadata": {
      "needs_background": "light"
     },
     "output_type": "display_data"
    }
   ],
   "source": [
    "# frame up w/ grid\n",
    "plt.figure(figsize=(16,4))\n",
    "plt.grid(linestyle='-.')\n",
    "\n",
    "# sketch in data\n",
    "plt.plot(df_org.ds, df_org.y, 'b')\n",
    "\n",
    "# set title & labels\n",
    "plt.title('$Session by time', fontsize=18)\n",
    "plt.ylabel('Sessions ($)', fontsize=13)\n",
    "plt.xlabel('Time (year)', fontsize=13)\n",
    "\n",
    "# display graph\n",
    "plt.show()"
   ]
  },
  {
   "cell_type": "code",
   "execution_count": 16,
   "metadata": {
    "scrolled": false
   },
   "outputs": [
    {
     "data": {
      "image/png": "[encoded data removed]",
      "text/plain": [
       "<Figure size 1296x576 with 4 Axes>"
      ]
     },
     "metadata": {
      "needs_background": "light"
     },
     "output_type": "display_data"
    }
   ],
   "source": [
    "y = df_org[['y']]\n",
    "rcParams['figure.figsize'] = 18, 8\n",
    "decomposition = sm.tsa.seasonal_decompose(y, period = 7)\n",
    "fig = decomposition.plot()\n",
    "plt.show()"
   ]
  },
  {
   "cell_type": "code",
   "execution_count": 9,
   "metadata": {},
   "outputs": [
    {
     "data": {
      "text/plain": [
       "<matplotlib.axes._subplots.AxesSubplot at 0x111b177cb88>"
      ]
     },
     "execution_count": 9,
     "metadata": {},
     "output_type": "execute_result"
    },
    {
     "data": {
      "image/png": "[encoded data removed]",
      "text/plain": [
       "<Figure size 1296x576 with 1 Axes>"
      ]
     },
     "metadata": {
      "needs_background": "light"
     },
     "output_type": "display_data"
    }
   ],
   "source": [
    "df_org.y.hist()"
   ]
  },
  {
   "cell_type": "code",
   "execution_count": 15,
   "metadata": {},
   "outputs": [
    {
     "data": {
      "image/png": "[encoded data removed]",
      "text/plain": [
       "<Figure size 1296x576 with 1 Axes>"
      ]
     },
     "metadata": {
      "needs_background": "light"
     },
     "output_type": "display_data"
    }
   ],
   "source": [
    "df_org.boxplot(column='y', return_type='axes');\n",
    "#df_org['y'].hist()\n"
   ]
  },
  {
   "cell_type": "code",
   "execution_count": 16,
   "metadata": {},
   "outputs": [],
   "source": [
    "df = df_org.copy()"
   ]
  },
  {
   "cell_type": "code",
   "execution_count": 17,
   "metadata": {},
   "outputs": [],
   "source": [
    "split_date='2018-12-31'\n",
    "forecast_days = 365\n",
    "train = df[df.ds<=datetime.strptime(split_date, '%Y-%m-%d')]\n",
    "test = df[(df.ds>datetime.strptime(split_date, '%Y-%m-%d')) & (df.ds<datetime.strptime('2019-01-01', '%Y-%m-%d')) ]"
   ]
  },
  {
   "cell_type": "code",
   "execution_count": 18,
   "metadata": {},
   "outputs": [],
   "source": [
    "def create_features(df, label=None):\n",
    "    \"\"\"\n",
    "    Creates time series features from datetime index.\n",
    "    \"\"\"\n",
    "    df = df.copy()\n",
    "#     df['date'] = df.index\n",
    "#     df['dayofweek'] = df['ds'].dt.dayofweek\n",
    "#     df['quarter'] = df['ds'].dt.quarter\n",
    "#     df['month'] = df['ds'].dt.month\n",
    "#     df['year'] = df['ds'].dt.year\n",
    "#     df['dayofyear'] = df['ds'].dt.dayofyear\n",
    "#     df['dayofmonth'] = df['ds'].dt.day\n",
    "#     df['weekofyear'] = df['ds'].dt.weekofyear\n",
    "\n",
    "    df['dayofweek_sin'] = np.sin(2*np.pi*df['ds'].dt.dayofweek/7)\n",
    "    df['dayofweek_cos'] = np.cos(2*np.pi*df['ds'].dt.dayofweek/7)\n",
    "    df['week_sin'] = np.sin(2*np.pi*df['ds'].dt.weekofyear/52)\n",
    "    df['week_cos'] = np.cos(2*np.pi*df['ds'].dt.weekofyear/52)\n",
    "    df['month_sin'] = np.sin(2*np.pi*df['ds'].dt.month/12)\n",
    "    df['month_cos'] = np.cos(2*np.pi*df['ds'].dt.month/12)\n",
    "    \n",
    "#     X = df[['dayofweek','quarter','month','year',\n",
    "#            'dayofyear','dayofmonth','weekofyear']]\n",
    "#     if label:\n",
    "#         y = df[label]\n",
    "#         return X, y\n",
    "    return df\n"
   ]
  },
  {
   "cell_type": "code",
   "execution_count": 19,
   "metadata": {},
   "outputs": [
    {
     "name": "stderr",
     "output_type": "stream",
     "text": [
      "e:\\data science masters\\research\\air_quality_data\\venv\\lib\\site-packages\\ipykernel_launcher.py:17: FutureWarning: Series.dt.weekofyear and Series.dt.week have been deprecated.  Please use Series.dt.isocalendar().week instead.\n",
      "e:\\data science masters\\research\\air_quality_data\\venv\\lib\\site-packages\\ipykernel_launcher.py:18: FutureWarning: Series.dt.weekofyear and Series.dt.week have been deprecated.  Please use Series.dt.isocalendar().week instead.\n"
     ]
    },
    {
     "data": {
      "text/html": [
       "<div>\n",
       "<style scoped>\n",
       "    .dataframe tbody tr th:only-of-type {\n",
       "        vertical-align: middle;\n",
       "    }\n",
       "\n",
       "    .dataframe tbody tr th {\n",
       "        vertical-align: top;\n",
       "    }\n",
       "\n",
       "    .dataframe thead th {\n",
       "        text-align: right;\n",
       "    }\n",
       "</style>\n",
       "<table border=\"1\" class=\"dataframe\">\n",
       "  <thead>\n",
       "    <tr style=\"text-align: right;\">\n",
       "      <th></th>\n",
       "      <th>ds</th>\n",
       "      <th>y</th>\n",
       "      <th>PM10</th>\n",
       "      <th>SO2</th>\n",
       "      <th>CO</th>\n",
       "      <th>NOx</th>\n",
       "      <th>O3</th>\n",
       "      <th>WS</th>\n",
       "      <th>Temp</th>\n",
       "      <th>RH</th>\n",
       "      <th>RF</th>\n",
       "      <th>dayofweek_sin</th>\n",
       "      <th>dayofweek_cos</th>\n",
       "      <th>week_sin</th>\n",
       "      <th>week_cos</th>\n",
       "      <th>month_sin</th>\n",
       "      <th>month_cos</th>\n",
       "    </tr>\n",
       "  </thead>\n",
       "  <tbody>\n",
       "    <tr>\n",
       "      <th>0</th>\n",
       "      <td>2013-01-01</td>\n",
       "      <td>240.365653</td>\n",
       "      <td>404.141923</td>\n",
       "      <td>4.0392</td>\n",
       "      <td>0.3567</td>\n",
       "      <td>19.6254</td>\n",
       "      <td>6.5769</td>\n",
       "      <td>1.3795</td>\n",
       "      <td>17.8800</td>\n",
       "      <td>69.8887</td>\n",
       "      <td>0.0583</td>\n",
       "      <td>0.781831</td>\n",
       "      <td>0.623490</td>\n",
       "      <td>0.120537</td>\n",
       "      <td>0.992709</td>\n",
       "      <td>0.5</td>\n",
       "      <td>0.866025</td>\n",
       "    </tr>\n",
       "    <tr>\n",
       "      <th>1</th>\n",
       "      <td>2013-01-02</td>\n",
       "      <td>267.760636</td>\n",
       "      <td>447.535746</td>\n",
       "      <td>3.9436</td>\n",
       "      <td>0.3086</td>\n",
       "      <td>13.4329</td>\n",
       "      <td>4.5049</td>\n",
       "      <td>1.4104</td>\n",
       "      <td>18.6961</td>\n",
       "      <td>67.1973</td>\n",
       "      <td>0.0467</td>\n",
       "      <td>0.974928</td>\n",
       "      <td>-0.222521</td>\n",
       "      <td>0.120537</td>\n",
       "      <td>0.992709</td>\n",
       "      <td>0.5</td>\n",
       "      <td>0.866025</td>\n",
       "    </tr>\n",
       "    <tr>\n",
       "      <th>2</th>\n",
       "      <td>2013-01-03</td>\n",
       "      <td>262.088263</td>\n",
       "      <td>449.070512</td>\n",
       "      <td>3.8702</td>\n",
       "      <td>0.3405</td>\n",
       "      <td>16.0926</td>\n",
       "      <td>5.3954</td>\n",
       "      <td>1.6614</td>\n",
       "      <td>20.0829</td>\n",
       "      <td>68.4158</td>\n",
       "      <td>0.0482</td>\n",
       "      <td>0.433884</td>\n",
       "      <td>-0.900969</td>\n",
       "      <td>0.120537</td>\n",
       "      <td>0.992709</td>\n",
       "      <td>0.5</td>\n",
       "      <td>0.866025</td>\n",
       "    </tr>\n",
       "    <tr>\n",
       "      <th>3</th>\n",
       "      <td>2013-01-04</td>\n",
       "      <td>222.661851</td>\n",
       "      <td>372.724157</td>\n",
       "      <td>4.2239</td>\n",
       "      <td>0.3858</td>\n",
       "      <td>19.5855</td>\n",
       "      <td>6.5480</td>\n",
       "      <td>1.2790</td>\n",
       "      <td>20.1200</td>\n",
       "      <td>70.4625</td>\n",
       "      <td>0.0226</td>\n",
       "      <td>-0.433884</td>\n",
       "      <td>-0.900969</td>\n",
       "      <td>0.120537</td>\n",
       "      <td>0.992709</td>\n",
       "      <td>0.5</td>\n",
       "      <td>0.866025</td>\n",
       "    </tr>\n",
       "    <tr>\n",
       "      <th>4</th>\n",
       "      <td>2013-01-05</td>\n",
       "      <td>164.089142</td>\n",
       "      <td>278.164502</td>\n",
       "      <td>4.0392</td>\n",
       "      <td>0.5365</td>\n",
       "      <td>31.8197</td>\n",
       "      <td>10.6209</td>\n",
       "      <td>1.3413</td>\n",
       "      <td>18.7043</td>\n",
       "      <td>62.1733</td>\n",
       "      <td>0.0200</td>\n",
       "      <td>-0.974928</td>\n",
       "      <td>-0.222521</td>\n",
       "      <td>0.120537</td>\n",
       "      <td>0.992709</td>\n",
       "      <td>0.5</td>\n",
       "      <td>0.866025</td>\n",
       "    </tr>\n",
       "    <tr>\n",
       "      <th>...</th>\n",
       "      <td>...</td>\n",
       "      <td>...</td>\n",
       "      <td>...</td>\n",
       "      <td>...</td>\n",
       "      <td>...</td>\n",
       "      <td>...</td>\n",
       "      <td>...</td>\n",
       "      <td>...</td>\n",
       "      <td>...</td>\n",
       "      <td>...</td>\n",
       "      <td>...</td>\n",
       "      <td>...</td>\n",
       "      <td>...</td>\n",
       "      <td>...</td>\n",
       "      <td>...</td>\n",
       "      <td>...</td>\n",
       "      <td>...</td>\n",
       "    </tr>\n",
       "    <tr>\n",
       "      <th>2337</th>\n",
       "      <td>2019-05-27</td>\n",
       "      <td>32.254731</td>\n",
       "      <td>71.798210</td>\n",
       "      <td>2.0623</td>\n",
       "      <td>0.3586</td>\n",
       "      <td>9.6544</td>\n",
       "      <td>3.5816</td>\n",
       "      <td>1.6276</td>\n",
       "      <td>27.5050</td>\n",
       "      <td>71.6983</td>\n",
       "      <td>0.0696</td>\n",
       "      <td>0.000000</td>\n",
       "      <td>1.000000</td>\n",
       "      <td>0.464723</td>\n",
       "      <td>-0.885456</td>\n",
       "      <td>0.5</td>\n",
       "      <td>-0.866025</td>\n",
       "    </tr>\n",
       "    <tr>\n",
       "      <th>2338</th>\n",
       "      <td>2019-05-28</td>\n",
       "      <td>33.639295</td>\n",
       "      <td>71.958079</td>\n",
       "      <td>1.4134</td>\n",
       "      <td>0.3457</td>\n",
       "      <td>9.8765</td>\n",
       "      <td>3.3788</td>\n",
       "      <td>1.8658</td>\n",
       "      <td>27.3188</td>\n",
       "      <td>70.9721</td>\n",
       "      <td>0.0709</td>\n",
       "      <td>0.781831</td>\n",
       "      <td>0.623490</td>\n",
       "      <td>0.464723</td>\n",
       "      <td>-0.885456</td>\n",
       "      <td>0.5</td>\n",
       "      <td>-0.866025</td>\n",
       "    </tr>\n",
       "    <tr>\n",
       "      <th>2339</th>\n",
       "      <td>2019-05-29</td>\n",
       "      <td>34.567208</td>\n",
       "      <td>71.600328</td>\n",
       "      <td>2.3504</td>\n",
       "      <td>0.3660</td>\n",
       "      <td>8.9842</td>\n",
       "      <td>3.0291</td>\n",
       "      <td>1.8658</td>\n",
       "      <td>28.7150</td>\n",
       "      <td>69.3067</td>\n",
       "      <td>0.0704</td>\n",
       "      <td>0.974928</td>\n",
       "      <td>-0.222521</td>\n",
       "      <td>0.464723</td>\n",
       "      <td>-0.885456</td>\n",
       "      <td>0.5</td>\n",
       "      <td>-0.866025</td>\n",
       "    </tr>\n",
       "    <tr>\n",
       "      <th>2340</th>\n",
       "      <td>2019-05-30</td>\n",
       "      <td>47.692519</td>\n",
       "      <td>88.990768</td>\n",
       "      <td>2.4768</td>\n",
       "      <td>0.3999</td>\n",
       "      <td>12.2521</td>\n",
       "      <td>4.1930</td>\n",
       "      <td>0.6333</td>\n",
       "      <td>27.0925</td>\n",
       "      <td>73.8333</td>\n",
       "      <td>0.1246</td>\n",
       "      <td>0.433884</td>\n",
       "      <td>-0.900969</td>\n",
       "      <td>0.464723</td>\n",
       "      <td>-0.885456</td>\n",
       "      <td>0.5</td>\n",
       "      <td>-0.866025</td>\n",
       "    </tr>\n",
       "    <tr>\n",
       "      <th>2341</th>\n",
       "      <td>2019-05-31</td>\n",
       "      <td>40.227825</td>\n",
       "      <td>87.306605</td>\n",
       "      <td>2.4465</td>\n",
       "      <td>0.4600</td>\n",
       "      <td>10.6999</td>\n",
       "      <td>3.6429</td>\n",
       "      <td>1.4229</td>\n",
       "      <td>25.7683</td>\n",
       "      <td>80.6650</td>\n",
       "      <td>0.0792</td>\n",
       "      <td>-0.433884</td>\n",
       "      <td>-0.900969</td>\n",
       "      <td>0.464723</td>\n",
       "      <td>-0.885456</td>\n",
       "      <td>0.5</td>\n",
       "      <td>-0.866025</td>\n",
       "    </tr>\n",
       "  </tbody>\n",
       "</table>\n",
       "<p>2342 rows × 17 columns</p>\n",
       "</div>"
      ],
      "text/plain": [
       "             ds           y        PM10     SO2      CO      NOx       O3  \\\n",
       "0    2013-01-01  240.365653  404.141923  4.0392  0.3567  19.6254   6.5769   \n",
       "1    2013-01-02  267.760636  447.535746  3.9436  0.3086  13.4329   4.5049   \n",
       "2    2013-01-03  262.088263  449.070512  3.8702  0.3405  16.0926   5.3954   \n",
       "3    2013-01-04  222.661851  372.724157  4.2239  0.3858  19.5855   6.5480   \n",
       "4    2013-01-05  164.089142  278.164502  4.0392  0.5365  31.8197  10.6209   \n",
       "...         ...         ...         ...     ...     ...      ...      ...   \n",
       "2337 2019-05-27   32.254731   71.798210  2.0623  0.3586   9.6544   3.5816   \n",
       "2338 2019-05-28   33.639295   71.958079  1.4134  0.3457   9.8765   3.3788   \n",
       "2339 2019-05-29   34.567208   71.600328  2.3504  0.3660   8.9842   3.0291   \n",
       "2340 2019-05-30   47.692519   88.990768  2.4768  0.3999  12.2521   4.1930   \n",
       "2341 2019-05-31   40.227825   87.306605  2.4465  0.4600  10.6999   3.6429   \n",
       "\n",
       "          WS     Temp       RH      RF  dayofweek_sin  dayofweek_cos  \\\n",
       "0     1.3795  17.8800  69.8887  0.0583       0.781831       0.623490   \n",
       "1     1.4104  18.6961  67.1973  0.0467       0.974928      -0.222521   \n",
       "2     1.6614  20.0829  68.4158  0.0482       0.433884      -0.900969   \n",
       "3     1.2790  20.1200  70.4625  0.0226      -0.433884      -0.900969   \n",
       "4     1.3413  18.7043  62.1733  0.0200      -0.974928      -0.222521   \n",
       "...      ...      ...      ...     ...            ...            ...   \n",
       "2337  1.6276  27.5050  71.6983  0.0696       0.000000       1.000000   \n",
       "2338  1.8658  27.3188  70.9721  0.0709       0.781831       0.623490   \n",
       "2339  1.8658  28.7150  69.3067  0.0704       0.974928      -0.222521   \n",
       "2340  0.6333  27.0925  73.8333  0.1246       0.433884      -0.900969   \n",
       "2341  1.4229  25.7683  80.6650  0.0792      -0.433884      -0.900969   \n",
       "\n",
       "      week_sin  week_cos  month_sin  month_cos  \n",
       "0     0.120537  0.992709        0.5   0.866025  \n",
       "1     0.120537  0.992709        0.5   0.866025  \n",
       "2     0.120537  0.992709        0.5   0.866025  \n",
       "3     0.120537  0.992709        0.5   0.866025  \n",
       "4     0.120537  0.992709        0.5   0.866025  \n",
       "...        ...       ...        ...        ...  \n",
       "2337  0.464723 -0.885456        0.5  -0.866025  \n",
       "2338  0.464723 -0.885456        0.5  -0.866025  \n",
       "2339  0.464723 -0.885456        0.5  -0.866025  \n",
       "2340  0.464723 -0.885456        0.5  -0.866025  \n",
       "2341  0.464723 -0.885456        0.5  -0.866025  \n",
       "\n",
       "[2342 rows x 17 columns]"
      ]
     },
     "execution_count": 19,
     "metadata": {},
     "output_type": "execute_result"
    }
   ],
   "source": [
    "df = create_features(df)\n",
    "df"
   ]
  },
  {
   "cell_type": "markdown",
   "metadata": {},
   "source": [
    "### Prophet optimization with cross validation"
   ]
  },
  {
   "cell_type": "markdown",
   "metadata": {},
   "source": [
    "#### Optimization"
   ]
  },
  {
   "cell_type": "code",
   "execution_count": 18,
   "metadata": {},
   "outputs": [],
   "source": [
    "def save_model(path, model):\n",
    "    with open(path+'/prophet_best.pckl', 'wb') as fout:\n",
    "        pickle.dump(model, fout)\n",
    "        \n",
    "def load_model(path):\n",
    "    with open(path+'/prophet_best.pckl', 'wb') as fin:\n",
    "        m2 = pickle.load(fin)\n",
    "    return m2"
   ]
  },
  {
   "cell_type": "code",
   "execution_count": 120,
   "metadata": {},
   "outputs": [],
   "source": [
    "# Define the search space\n",
    "space = {\n",
    "    #'lstm_layers': hp.quniform('lstm_layers', 1, 3, 1),\n",
    "    'changepoint_prior_scale': hp.uniform('changepoint_prior_scale', 0.001, 0.5),\n",
    "    'seasonality_prior_scale': hp.uniform('seasonality_prior_scale', 0.01, 10),\n",
    "    'holidays_prior_scale': hp.uniform('holidays_prior_scale', 0.01, 10),\n",
    "    'seasonality_mode': hp.choice('seasonality_mode', ['additive', 'multiplicative'])\n",
    "}"
   ]
  },
  {
   "cell_type": "code",
   "execution_count": 127,
   "metadata": {},
   "outputs": [],
   "source": [
    "rmses = []  # Store the RMSEs for each params here\n",
    "wmt_cv_array = []\n",
    "best_rmse =  float('inf')\n",
    "\n",
    "def train_prophet(param, regressors, df):\n",
    "    \n",
    "    m = Prophet(interval_width=0.95,\\\n",
    "                changepoint_prior_scale = param.changepoint_prior_scale,\\\n",
    "                seasonality_prior_scale = param.seasonality_prior_scale,\\\n",
    "                holidays_prior_scale = param.holidays_prior_scale,\\\n",
    "                seasonality_mode = param.seasonality_mode,\\\n",
    "                yearly_seasonality=True,\\\n",
    "                weekly_seasonality=True,\\\n",
    "                daily_seasonality = True)\n",
    "    \n",
    "    for i in regressors:\n",
    "        m.add_regressor(i)\n",
    "        \n",
    "    m.fit(df[df.ds<'2019-01-01'])#Fit model with given params\n",
    "    \n",
    "    wmt_cv = cross_validation(m, initial='1825 days', period='1days', horizon='7 days')\n",
    "    df_p = performance_metrics(wmt_cv, rolling_window=1)\n",
    "    #wmt_cv_array.append(wmt_cv)\n",
    "    \n",
    "    return m, wmt_cv, df_p['rmse'].values[0]\n",
    "\n",
    "def objective_fun(param_space):\n",
    "    \n",
    "    global best_rmse\n",
    "    params = utils.Params(json_path)\n",
    "    # Evaluate the function\n",
    "    start = timer()\n",
    "    \n",
    "    params.changepoint_prior_scale = param_space['changepoint_prior_scale']\n",
    "    params.seasonality_prior_scale = param_space['seasonality_prior_scale']\n",
    "    params.holidays_prior_scale = param_space['holidays_prior_scale']\n",
    "    params.seasonality_mode = param_space['seasonality_mode']\n",
    "    \n",
    "    model, prediction_df, loss = train_prophet(params, regressors, df.copy())\n",
    "    \n",
    "    if loss<best_rmse:\n",
    "        save_model(os.path.join(params.dataset, params.model_save_folder_name), model)\n",
    "        prediction_df.to_csv(os.path.join(params.dataset, params.model_save_folder_name, 'prophet_results.csv'))\n",
    "        best_rmse = loss\n",
    "        \n",
    "    end = timer()\n",
    "    \n",
    "    # Calculate time to evaluate\n",
    "    time_elapsed = end - start\n",
    "    results = {'loss': loss, 'status': STATUS_OK, \\\n",
    "               'changepoint_prior_scale': param_space['changepoint_prior_scale'], \\\n",
    "               'seasonality_prior_scale': param_space['seasonality_prior_scale'], \\\n",
    "               'holidays_prior_scale': param_space['holidays_prior_scale'], \\\n",
    "               'seasonality_mode': param_space['seasonality_mode'], \\\n",
    "               'time': time_elapsed}\n",
    "    \n",
    "    # Return dictionary\n",
    "    return results"
   ]
  },
  {
   "cell_type": "code",
   "execution_count": 128,
   "metadata": {
    "scrolled": false
   },
   "outputs": [
    {
     "name": "stdout",
     "output_type": "stream",
     "text": [
      "\r",
      "  0%|          | 0/50 [00:00<?, ?trial/s, best loss=?]"
     ]
    },
    {
     "name": "stderr",
     "output_type": "stream",
     "text": [
      "INFO:hyperopt.tpe:build_posterior_wrapper took 0.001529 seconds\n",
      "INFO:hyperopt.tpe:TPE using 0 trials\n",
      "INFO:fbprophet:Making 359 forecasts with cutoffs between 2017-12-31 00:00:00 and 2018-12-24 00:00:00\n"
     ]
    },
    {
     "name": "stdout",
     "output_type": "stream",
     "text": [
      "\r",
      "  2%|▏         | 1/50 [21:24<17:28:37, 1284.02s/trial, best loss: 27.1796123331684]"
     ]
    },
    {
     "name": "stderr",
     "output_type": "stream",
     "text": [
      "INFO:hyperopt.tpe:build_posterior_wrapper took 0.002043 seconds\n",
      "INFO:hyperopt.tpe:TPE using 1/1 trials with best loss 27.179612\n",
      "INFO:fbprophet:Making 359 forecasts with cutoffs between 2017-12-31 00:00:00 and 2018-12-24 00:00:00\n"
     ]
    },
    {
     "name": "stdout",
     "output_type": "stream",
     "text": [
      "\r",
      "  4%|▍         | 2/50 [1:18:45<25:44:54, 1931.15s/trial, best loss: 27.1796123331684]"
     ]
    },
    {
     "name": "stderr",
     "output_type": "stream",
     "text": [
      "INFO:hyperopt.tpe:build_posterior_wrapper took 0.001658 seconds\n",
      "INFO:hyperopt.tpe:TPE using 2/2 trials with best loss 27.179612\n",
      "INFO:fbprophet:Making 359 forecasts with cutoffs between 2017-12-31 00:00:00 and 2018-12-24 00:00:00\n"
     ]
    },
    {
     "name": "stdout",
     "output_type": "stream",
     "text": [
      "\r",
      "  6%|▌         | 3/50 [1:53:15<25:45:23, 1972.85s/trial, best loss: 27.1796123331684]"
     ]
    },
    {
     "name": "stderr",
     "output_type": "stream",
     "text": [
      "INFO:hyperopt.tpe:build_posterior_wrapper took 0.001213 seconds\n",
      "INFO:hyperopt.tpe:TPE using 3/3 trials with best loss 27.179612\n",
      "INFO:fbprophet:Making 359 forecasts with cutoffs between 2017-12-31 00:00:00 and 2018-12-24 00:00:00\n"
     ]
    },
    {
     "name": "stdout",
     "output_type": "stream",
     "text": [
      "\r",
      "  8%|▊         | 4/50 [2:15:06<22:40:22, 1774.40s/trial, best loss: 27.15555021504662]"
     ]
    },
    {
     "name": "stderr",
     "output_type": "stream",
     "text": [
      "INFO:hyperopt.tpe:build_posterior_wrapper took 0.001268 seconds\n",
      "INFO:hyperopt.tpe:TPE using 4/4 trials with best loss 27.155550\n",
      "INFO:fbprophet:Making 359 forecasts with cutoffs between 2017-12-31 00:00:00 and 2018-12-24 00:00:00\n"
     ]
    },
    {
     "name": "stdout",
     "output_type": "stream",
     "text": [
      "\r",
      " 10%|█         | 5/50 [2:26:42<18:08:06, 1450.82s/trial, best loss: 27.15555021504662]"
     ]
    },
    {
     "name": "stderr",
     "output_type": "stream",
     "text": [
      "INFO:hyperopt.tpe:build_posterior_wrapper took 0.001192 seconds\n",
      "INFO:hyperopt.tpe:TPE using 5/5 trials with best loss 27.155550\n",
      "INFO:fbprophet:Making 359 forecasts with cutoffs between 2017-12-31 00:00:00 and 2018-12-24 00:00:00\n"
     ]
    },
    {
     "name": "stdout",
     "output_type": "stream",
     "text": [
      "\r",
      " 12%|█▏        | 6/50 [2:43:26<16:05:39, 1316.80s/trial, best loss: 27.15555021504662]"
     ]
    },
    {
     "name": "stderr",
     "output_type": "stream",
     "text": [
      "INFO:hyperopt.tpe:build_posterior_wrapper took 0.001211 seconds\n",
      "INFO:hyperopt.tpe:TPE using 6/6 trials with best loss 27.155550\n",
      "INFO:fbprophet:Making 359 forecasts with cutoffs between 2017-12-31 00:00:00 and 2018-12-24 00:00:00\n"
     ]
    },
    {
     "name": "stdout",
     "output_type": "stream",
     "text": [
      "\r",
      " 14%|█▍        | 7/50 [3:21:53<19:16:40, 1613.96s/trial, best loss: 27.15555021504662]"
     ]
    },
    {
     "name": "stderr",
     "output_type": "stream",
     "text": [
      "INFO:hyperopt.tpe:build_posterior_wrapper took 0.002012 seconds\n",
      "INFO:hyperopt.tpe:TPE using 7/7 trials with best loss 27.155550\n",
      "INFO:fbprophet:Making 359 forecasts with cutoffs between 2017-12-31 00:00:00 and 2018-12-24 00:00:00\n"
     ]
    },
    {
     "name": "stdout",
     "output_type": "stream",
     "text": [
      "\r",
      " 16%|█▌        | 8/50 [3:40:02<16:59:28, 1456.39s/trial, best loss: 27.15555021504662]"
     ]
    },
    {
     "name": "stderr",
     "output_type": "stream",
     "text": [
      "INFO:hyperopt.tpe:build_posterior_wrapper took 0.001175 seconds\n",
      "INFO:hyperopt.tpe:TPE using 8/8 trials with best loss 27.155550\n",
      "INFO:fbprophet:Making 359 forecasts with cutoffs between 2017-12-31 00:00:00 and 2018-12-24 00:00:00\n"
     ]
    },
    {
     "name": "stdout",
     "output_type": "stream",
     "text": [
      "\r",
      " 18%|█▊        | 9/50 [3:52:53<14:14:41, 1250.76s/trial, best loss: 27.15555021504662]"
     ]
    },
    {
     "name": "stderr",
     "output_type": "stream",
     "text": [
      "INFO:hyperopt.tpe:build_posterior_wrapper took 0.001208 seconds\n",
      "INFO:hyperopt.tpe:TPE using 9/9 trials with best loss 27.155550\n",
      "INFO:fbprophet:Making 359 forecasts with cutoffs between 2017-12-31 00:00:00 and 2018-12-24 00:00:00\n"
     ]
    },
    {
     "name": "stdout",
     "output_type": "stream",
     "text": [
      "\r",
      " 20%|██        | 10/50 [4:19:07<14:58:28, 1347.71s/trial, best loss: 27.15555021504662]"
     ]
    },
    {
     "name": "stderr",
     "output_type": "stream",
     "text": [
      "INFO:hyperopt.tpe:build_posterior_wrapper took 0.001282 seconds\n",
      "INFO:hyperopt.tpe:TPE using 10/10 trials with best loss 27.155550\n",
      "INFO:fbprophet:Making 359 forecasts with cutoffs between 2017-12-31 00:00:00 and 2018-12-24 00:00:00\n"
     ]
    },
    {
     "name": "stdout",
     "output_type": "stream",
     "text": [
      "\r",
      " 22%|██▏       | 11/50 [4:36:15<13:33:44, 1251.91s/trial, best loss: 27.15555021504662]"
     ]
    },
    {
     "name": "stderr",
     "output_type": "stream",
     "text": [
      "INFO:hyperopt.tpe:build_posterior_wrapper took 0.001198 seconds\n",
      "INFO:hyperopt.tpe:TPE using 11/11 trials with best loss 27.155550\n",
      "INFO:fbprophet:Making 359 forecasts with cutoffs between 2017-12-31 00:00:00 and 2018-12-24 00:00:00\n"
     ]
    },
    {
     "name": "stdout",
     "output_type": "stream",
     "text": [
      "\r",
      " 24%|██▍       | 12/50 [4:54:20<12:41:06, 1201.75s/trial, best loss: 27.15555021504662]"
     ]
    },
    {
     "name": "stderr",
     "output_type": "stream",
     "text": [
      "INFO:hyperopt.tpe:build_posterior_wrapper took 0.001971 seconds\n",
      "INFO:hyperopt.tpe:TPE using 12/12 trials with best loss 27.155550\n",
      "INFO:fbprophet:Making 359 forecasts with cutoffs between 2017-12-31 00:00:00 and 2018-12-24 00:00:00\n"
     ]
    },
    {
     "name": "stdout",
     "output_type": "stream",
     "text": [
      "\r",
      " 26%|██▌       | 13/50 [5:16:43<12:47:10, 1244.07s/trial, best loss: 27.153468212975927]"
     ]
    },
    {
     "name": "stderr",
     "output_type": "stream",
     "text": [
      "INFO:hyperopt.tpe:build_posterior_wrapper took 0.001267 seconds\n",
      "INFO:hyperopt.tpe:TPE using 13/13 trials with best loss 27.153468\n",
      "INFO:fbprophet:Making 359 forecasts with cutoffs between 2017-12-31 00:00:00 and 2018-12-24 00:00:00\n"
     ]
    },
    {
     "name": "stdout",
     "output_type": "stream",
     "text": [
      "\r",
      " 28%|██▊       | 14/50 [5:56:06<15:47:49, 1579.71s/trial, best loss: 27.153468212975927]"
     ]
    },
    {
     "name": "stderr",
     "output_type": "stream",
     "text": [
      "INFO:hyperopt.tpe:build_posterior_wrapper took 0.001174 seconds\n",
      "INFO:hyperopt.tpe:TPE using 14/14 trials with best loss 27.153468\n",
      "INFO:fbprophet:Making 359 forecasts with cutoffs between 2017-12-31 00:00:00 and 2018-12-24 00:00:00\n"
     ]
    },
    {
     "name": "stdout",
     "output_type": "stream",
     "text": [
      "\r",
      " 30%|███       | 15/50 [6:12:56<13:41:52, 1408.92s/trial, best loss: 27.153468212975927]"
     ]
    },
    {
     "name": "stderr",
     "output_type": "stream",
     "text": [
      "INFO:hyperopt.tpe:build_posterior_wrapper took 0.001204 seconds\n",
      "INFO:hyperopt.tpe:TPE using 15/15 trials with best loss 27.153468\n",
      "INFO:fbprophet:Making 359 forecasts with cutoffs between 2017-12-31 00:00:00 and 2018-12-24 00:00:00\n"
     ]
    },
    {
     "name": "stdout",
     "output_type": "stream",
     "text": [
      "\r",
      " 32%|███▏      | 16/50 [6:32:24<12:37:22, 1336.53s/trial, best loss: 27.153468212975927]"
     ]
    },
    {
     "name": "stderr",
     "output_type": "stream",
     "text": [
      "INFO:hyperopt.tpe:build_posterior_wrapper took 0.001233 seconds\n",
      "INFO:hyperopt.tpe:TPE using 16/16 trials with best loss 27.153468\n",
      "INFO:fbprophet:Making 359 forecasts with cutoffs between 2017-12-31 00:00:00 and 2018-12-24 00:00:00\n"
     ]
    },
    {
     "name": "stdout",
     "output_type": "stream",
     "text": [
      "\r",
      " 34%|███▍      | 17/50 [6:49:09<11:20:26, 1237.18s/trial, best loss: 27.153468212975927]"
     ]
    },
    {
     "name": "stderr",
     "output_type": "stream",
     "text": [
      "INFO:hyperopt.tpe:build_posterior_wrapper took 0.001219 seconds\n",
      "INFO:hyperopt.tpe:TPE using 17/17 trials with best loss 27.153468\n",
      "INFO:fbprophet:Making 359 forecasts with cutoffs between 2017-12-31 00:00:00 and 2018-12-24 00:00:00\n"
     ]
    },
    {
     "name": "stdout",
     "output_type": "stream",
     "text": [
      "\r",
      " 36%|███▌      | 18/50 [7:07:11<10:34:55, 1190.50s/trial, best loss: 27.153468212975927]"
     ]
    },
    {
     "name": "stderr",
     "output_type": "stream",
     "text": [
      "INFO:hyperopt.tpe:build_posterior_wrapper took 0.001184 seconds\n",
      "INFO:hyperopt.tpe:TPE using 18/18 trials with best loss 27.153468\n",
      "INFO:fbprophet:Making 359 forecasts with cutoffs between 2017-12-31 00:00:00 and 2018-12-24 00:00:00\n"
     ]
    },
    {
     "name": "stdout",
     "output_type": "stream",
     "text": [
      "\r",
      " 38%|███▊      | 19/50 [7:29:00<10:33:28, 1226.09s/trial, best loss: 27.151286139174996]"
     ]
    },
    {
     "name": "stderr",
     "output_type": "stream",
     "text": [
      "INFO:hyperopt.tpe:build_posterior_wrapper took 0.001954 seconds\n",
      "INFO:hyperopt.tpe:TPE using 19/19 trials with best loss 27.151286\n",
      "INFO:fbprophet:Making 359 forecasts with cutoffs between 2017-12-31 00:00:00 and 2018-12-24 00:00:00\n"
     ]
    },
    {
     "name": "stdout",
     "output_type": "stream",
     "text": [
      "\r",
      " 40%|████      | 20/50 [8:07:38<12:56:54, 1553.81s/trial, best loss: 27.151286139174996]"
     ]
    },
    {
     "name": "stderr",
     "output_type": "stream",
     "text": [
      "INFO:hyperopt.tpe:build_posterior_wrapper took 0.002008 seconds\n",
      "INFO:hyperopt.tpe:TPE using 20/20 trials with best loss 27.151286\n",
      "INFO:fbprophet:Making 359 forecasts with cutoffs between 2017-12-31 00:00:00 and 2018-12-24 00:00:00\n"
     ]
    },
    {
     "name": "stdout",
     "output_type": "stream",
     "text": [
      "\r",
      " 42%|████▏     | 21/50 [8:34:28<12:39:10, 1570.69s/trial, best loss: 27.05490576292348] "
     ]
    },
    {
     "name": "stderr",
     "output_type": "stream",
     "text": [
      "INFO:hyperopt.tpe:build_posterior_wrapper took 0.002287 seconds\n",
      "INFO:hyperopt.tpe:TPE using 21/21 trials with best loss 27.054906\n",
      "INFO:fbprophet:Making 359 forecasts with cutoffs between 2017-12-31 00:00:00 and 2018-12-24 00:00:00\n"
     ]
    },
    {
     "name": "stdout",
     "output_type": "stream",
     "text": [
      "\r",
      " 44%|████▍     | 22/50 [8:55:58<11:33:37, 1486.33s/trial, best loss: 27.05490576292348]"
     ]
    },
    {
     "name": "stderr",
     "output_type": "stream",
     "text": [
      "INFO:hyperopt.tpe:build_posterior_wrapper took 0.001194 seconds\n",
      "INFO:hyperopt.tpe:TPE using 22/22 trials with best loss 27.054906\n",
      "INFO:fbprophet:Making 359 forecasts with cutoffs between 2017-12-31 00:00:00 and 2018-12-24 00:00:00\n"
     ]
    },
    {
     "name": "stdout",
     "output_type": "stream",
     "text": [
      "\r",
      " 46%|████▌     | 23/50 [9:18:54<10:53:55, 1453.16s/trial, best loss: 26.868926279469186]"
     ]
    },
    {
     "name": "stderr",
     "output_type": "stream",
     "text": [
      "INFO:hyperopt.tpe:build_posterior_wrapper took 0.001272 seconds\n",
      "INFO:hyperopt.tpe:TPE using 23/23 trials with best loss 26.868926\n",
      "INFO:fbprophet:Making 359 forecasts with cutoffs between 2017-12-31 00:00:00 and 2018-12-24 00:00:00\n"
     ]
    },
    {
     "name": "stdout",
     "output_type": "stream",
     "text": [
      "\r",
      " 48%|████▊     | 24/50 [9:37:48<9:48:18, 1357.63s/trial, best loss: 26.868926279469186] "
     ]
    },
    {
     "name": "stderr",
     "output_type": "stream",
     "text": [
      "INFO:hyperopt.tpe:build_posterior_wrapper took 0.001169 seconds\n",
      "INFO:hyperopt.tpe:TPE using 24/24 trials with best loss 26.868926\n",
      "INFO:fbprophet:Making 359 forecasts with cutoffs between 2017-12-31 00:00:00 and 2018-12-24 00:00:00\n"
     ]
    },
    {
     "name": "stdout",
     "output_type": "stream",
     "text": [
      "\r",
      " 50%|█████     | 25/50 [9:58:43<9:12:51, 1326.88s/trial, best loss: 26.868926279469186]"
     ]
    },
    {
     "name": "stderr",
     "output_type": "stream",
     "text": [
      "INFO:hyperopt.tpe:build_posterior_wrapper took 0.001805 seconds\n",
      "INFO:hyperopt.tpe:TPE using 25/25 trials with best loss 26.868926\n",
      "INFO:fbprophet:Making 359 forecasts with cutoffs between 2017-12-31 00:00:00 and 2018-12-24 00:00:00\n"
     ]
    },
    {
     "name": "stdout",
     "output_type": "stream",
     "text": [
      "\r",
      " 52%|█████▏    | 26/50 [10:17:29<8:26:33, 1266.38s/trial, best loss: 26.868926279469186]"
     ]
    },
    {
     "name": "stderr",
     "output_type": "stream",
     "text": [
      "INFO:hyperopt.tpe:build_posterior_wrapper took 0.001241 seconds\n",
      "INFO:hyperopt.tpe:TPE using 26/26 trials with best loss 26.868926\n",
      "INFO:fbprophet:Making 359 forecasts with cutoffs between 2017-12-31 00:00:00 and 2018-12-24 00:00:00\n"
     ]
    },
    {
     "name": "stdout",
     "output_type": "stream",
     "text": [
      "\r",
      " 54%|█████▍    | 27/50 [10:40:04<8:15:41, 1293.09s/trial, best loss: 26.868926279469186]"
     ]
    },
    {
     "name": "stderr",
     "output_type": "stream",
     "text": [
      "INFO:hyperopt.tpe:build_posterior_wrapper took 0.001248 seconds\n",
      "INFO:hyperopt.tpe:TPE using 27/27 trials with best loss 26.868926\n",
      "INFO:fbprophet:Making 359 forecasts with cutoffs between 2017-12-31 00:00:00 and 2018-12-24 00:00:00\n"
     ]
    },
    {
     "name": "stdout",
     "output_type": "stream",
     "text": [
      "\r",
      " 56%|█████▌    | 28/50 [10:59:52<7:42:34, 1261.58s/trial, best loss: 26.868926279469186]"
     ]
    },
    {
     "name": "stderr",
     "output_type": "stream",
     "text": [
      "INFO:hyperopt.tpe:build_posterior_wrapper took 0.001236 seconds\n",
      "INFO:hyperopt.tpe:TPE using 28/28 trials with best loss 26.868926\n",
      "INFO:fbprophet:Making 359 forecasts with cutoffs between 2017-12-31 00:00:00 and 2018-12-24 00:00:00\n"
     ]
    },
    {
     "name": "stdout",
     "output_type": "stream",
     "text": [
      "\r",
      " 58%|█████▊    | 29/50 [11:18:06<7:03:55, 1211.20s/trial, best loss: 26.868926279469186]"
     ]
    },
    {
     "name": "stderr",
     "output_type": "stream",
     "text": [
      "INFO:hyperopt.tpe:build_posterior_wrapper took 0.001970 seconds\n",
      "INFO:hyperopt.tpe:TPE using 29/29 trials with best loss 26.868926\n",
      "INFO:fbprophet:Making 359 forecasts with cutoffs between 2017-12-31 00:00:00 and 2018-12-24 00:00:00\n"
     ]
    },
    {
     "name": "stdout",
     "output_type": "stream",
     "text": [
      "\r",
      " 60%|██████    | 30/50 [11:39:20<6:49:59, 1229.97s/trial, best loss: 26.868926279469186]"
     ]
    },
    {
     "name": "stderr",
     "output_type": "stream",
     "text": [
      "INFO:hyperopt.tpe:build_posterior_wrapper took 0.001937 seconds\n",
      "INFO:hyperopt.tpe:TPE using 30/30 trials with best loss 26.868926\n",
      "INFO:fbprophet:Making 359 forecasts with cutoffs between 2017-12-31 00:00:00 and 2018-12-24 00:00:00\n"
     ]
    },
    {
     "name": "stdout",
     "output_type": "stream",
     "text": [
      "\r",
      " 62%|██████▏   | 31/50 [11:58:54<6:24:11, 1213.22s/trial, best loss: 26.868926279469186]"
     ]
    },
    {
     "name": "stderr",
     "output_type": "stream",
     "text": [
      "INFO:hyperopt.tpe:build_posterior_wrapper took 0.001190 seconds\n",
      "INFO:hyperopt.tpe:TPE using 31/31 trials with best loss 26.868926\n",
      "INFO:fbprophet:Making 359 forecasts with cutoffs between 2017-12-31 00:00:00 and 2018-12-24 00:00:00\n"
     ]
    },
    {
     "name": "stdout",
     "output_type": "stream",
     "text": [
      "\r",
      " 64%|██████▍   | 32/50 [12:36:19<7:36:53, 1522.96s/trial, best loss: 26.868926279469186]"
     ]
    },
    {
     "name": "stderr",
     "output_type": "stream",
     "text": [
      "INFO:hyperopt.tpe:build_posterior_wrapper took 0.001199 seconds\n",
      "INFO:hyperopt.tpe:TPE using 32/32 trials with best loss 26.868926\n",
      "INFO:fbprophet:Making 359 forecasts with cutoffs between 2017-12-31 00:00:00 and 2018-12-24 00:00:00\n"
     ]
    },
    {
     "name": "stdout",
     "output_type": "stream",
     "text": [
      "\r",
      " 66%|██████▌   | 33/50 [12:57:35<6:50:26, 1448.61s/trial, best loss: 26.868926279469186]"
     ]
    },
    {
     "name": "stderr",
     "output_type": "stream",
     "text": [
      "INFO:hyperopt.tpe:build_posterior_wrapper took 0.001148 seconds\n",
      "INFO:hyperopt.tpe:TPE using 33/33 trials with best loss 26.868926\n",
      "INFO:fbprophet:Making 359 forecasts with cutoffs between 2017-12-31 00:00:00 and 2018-12-24 00:00:00\n"
     ]
    },
    {
     "name": "stdout",
     "output_type": "stream",
     "text": [
      "\r",
      " 68%|██████▊   | 34/50 [13:15:46<5:57:41, 1341.32s/trial, best loss: 26.868926279469186]"
     ]
    },
    {
     "name": "stderr",
     "output_type": "stream",
     "text": [
      "INFO:hyperopt.tpe:build_posterior_wrapper took 0.001343 seconds\n",
      "INFO:hyperopt.tpe:TPE using 34/34 trials with best loss 26.868926\n",
      "INFO:fbprophet:Making 359 forecasts with cutoffs between 2017-12-31 00:00:00 and 2018-12-24 00:00:00\n"
     ]
    },
    {
     "name": "stdout",
     "output_type": "stream",
     "text": [
      "\r",
      " 70%|███████   | 35/50 [13:55:24<6:53:07, 1652.50s/trial, best loss: 26.868926279469186]"
     ]
    },
    {
     "name": "stderr",
     "output_type": "stream",
     "text": [
      "INFO:hyperopt.tpe:build_posterior_wrapper took 0.001316 seconds\n",
      "INFO:hyperopt.tpe:TPE using 35/35 trials with best loss 26.868926\n",
      "INFO:fbprophet:Making 359 forecasts with cutoffs between 2017-12-31 00:00:00 and 2018-12-24 00:00:00\n"
     ]
    },
    {
     "name": "stdout",
     "output_type": "stream",
     "text": [
      "\r",
      " 72%|███████▏  | 36/50 [14:15:22<5:53:43, 1515.98s/trial, best loss: 26.868926279469186]"
     ]
    },
    {
     "name": "stderr",
     "output_type": "stream",
     "text": [
      "INFO:hyperopt.tpe:build_posterior_wrapper took 0.001235 seconds\n",
      "INFO:hyperopt.tpe:TPE using 36/36 trials with best loss 26.868926\n",
      "INFO:fbprophet:Making 359 forecasts with cutoffs between 2017-12-31 00:00:00 and 2018-12-24 00:00:00\n"
     ]
    },
    {
     "name": "stdout",
     "output_type": "stream",
     "text": [
      "\r",
      " 74%|███████▍  | 37/50 [14:34:42<5:05:19, 1409.23s/trial, best loss: 26.868926279469186]"
     ]
    },
    {
     "name": "stderr",
     "output_type": "stream",
     "text": [
      "INFO:hyperopt.tpe:build_posterior_wrapper took 0.001183 seconds\n",
      "INFO:hyperopt.tpe:TPE using 37/37 trials with best loss 26.868926\n",
      "INFO:fbprophet:Making 359 forecasts with cutoffs between 2017-12-31 00:00:00 and 2018-12-24 00:00:00\n"
     ]
    },
    {
     "name": "stdout",
     "output_type": "stream",
     "text": [
      "\r",
      " 76%|███████▌  | 38/50 [14:53:01<4:23:15, 1316.26s/trial, best loss: 26.868926279469186]"
     ]
    },
    {
     "name": "stderr",
     "output_type": "stream",
     "text": [
      "INFO:hyperopt.tpe:build_posterior_wrapper took 0.001190 seconds\n",
      "INFO:hyperopt.tpe:TPE using 38/38 trials with best loss 26.868926\n",
      "INFO:fbprophet:Making 359 forecasts with cutoffs between 2017-12-31 00:00:00 and 2018-12-24 00:00:00\n"
     ]
    },
    {
     "name": "stdout",
     "output_type": "stream",
     "text": [
      "\r",
      " 78%|███████▊  | 39/50 [15:29:15<4:48:27, 1573.44s/trial, best loss: 26.868926279469186]"
     ]
    },
    {
     "name": "stderr",
     "output_type": "stream",
     "text": [
      "INFO:hyperopt.tpe:build_posterior_wrapper took 0.001953 seconds\n",
      "INFO:hyperopt.tpe:TPE using 39/39 trials with best loss 26.868926\n",
      "INFO:fbprophet:Making 359 forecasts with cutoffs between 2017-12-31 00:00:00 and 2018-12-24 00:00:00\n"
     ]
    },
    {
     "name": "stdout",
     "output_type": "stream",
     "text": [
      "\r",
      " 80%|████████  | 40/50 [15:51:31<4:10:24, 1502.42s/trial, best loss: 26.868926279469186]"
     ]
    },
    {
     "name": "stderr",
     "output_type": "stream",
     "text": [
      "INFO:hyperopt.tpe:build_posterior_wrapper took 0.001199 seconds\n",
      "INFO:hyperopt.tpe:TPE using 40/40 trials with best loss 26.868926\n",
      "INFO:fbprophet:Making 359 forecasts with cutoffs between 2017-12-31 00:00:00 and 2018-12-24 00:00:00\n"
     ]
    },
    {
     "name": "stdout",
     "output_type": "stream",
     "text": [
      "\r",
      " 82%|████████▏ | 41/50 [16:27:01<4:13:35, 1690.66s/trial, best loss: 26.868926279469186]"
     ]
    },
    {
     "name": "stderr",
     "output_type": "stream",
     "text": [
      "INFO:hyperopt.tpe:build_posterior_wrapper took 0.001472 seconds\n",
      "INFO:hyperopt.tpe:TPE using 41/41 trials with best loss 26.868926\n",
      "INFO:fbprophet:Making 359 forecasts with cutoffs between 2017-12-31 00:00:00 and 2018-12-24 00:00:00\n"
     ]
    },
    {
     "name": "stdout",
     "output_type": "stream",
     "text": [
      "\r",
      " 84%|████████▍ | 42/50 [16:47:34<3:27:06, 1553.28s/trial, best loss: 26.868926279469186]"
     ]
    },
    {
     "name": "stderr",
     "output_type": "stream",
     "text": [
      "INFO:hyperopt.tpe:build_posterior_wrapper took 0.001158 seconds\n",
      "INFO:hyperopt.tpe:TPE using 42/42 trials with best loss 26.868926\n",
      "INFO:fbprophet:Making 359 forecasts with cutoffs between 2017-12-31 00:00:00 and 2018-12-24 00:00:00\n"
     ]
    },
    {
     "name": "stdout",
     "output_type": "stream",
     "text": [
      "\r",
      " 86%|████████▌ | 43/50 [17:02:01<2:37:11, 1347.39s/trial, best loss: 26.868926279469186]"
     ]
    },
    {
     "name": "stderr",
     "output_type": "stream",
     "text": [
      "INFO:hyperopt.tpe:build_posterior_wrapper took 0.001142 seconds\n",
      "INFO:hyperopt.tpe:TPE using 43/43 trials with best loss 26.868926\n",
      "INFO:fbprophet:Making 359 forecasts with cutoffs between 2017-12-31 00:00:00 and 2018-12-24 00:00:00\n"
     ]
    },
    {
     "name": "stdout",
     "output_type": "stream",
     "text": [
      "\r",
      " 88%|████████▊ | 44/50 [17:19:26<2:05:40, 1256.74s/trial, best loss: 26.868926279469186]"
     ]
    },
    {
     "name": "stderr",
     "output_type": "stream",
     "text": [
      "INFO:hyperopt.tpe:build_posterior_wrapper took 0.001958 seconds\n",
      "INFO:hyperopt.tpe:TPE using 44/44 trials with best loss 26.868926\n",
      "INFO:fbprophet:Making 359 forecasts with cutoffs between 2017-12-31 00:00:00 and 2018-12-24 00:00:00\n"
     ]
    },
    {
     "name": "stdout",
     "output_type": "stream",
     "text": [
      "\r",
      " 90%|█████████ | 45/50 [17:33:36<1:34:33, 1134.63s/trial, best loss: 26.868926279469186]"
     ]
    },
    {
     "name": "stderr",
     "output_type": "stream",
     "text": [
      "INFO:hyperopt.tpe:build_posterior_wrapper took 0.001105 seconds\n",
      "INFO:hyperopt.tpe:TPE using 45/45 trials with best loss 26.868926\n",
      "INFO:fbprophet:Making 359 forecasts with cutoffs between 2017-12-31 00:00:00 and 2018-12-24 00:00:00\n"
     ]
    },
    {
     "name": "stdout",
     "output_type": "stream",
     "text": [
      "\r",
      " 92%|█████████▏| 46/50 [17:52:13<1:15:17, 1129.31s/trial, best loss: 26.868926279469186]"
     ]
    },
    {
     "name": "stderr",
     "output_type": "stream",
     "text": [
      "INFO:hyperopt.tpe:build_posterior_wrapper took 0.001345 seconds\n",
      "INFO:hyperopt.tpe:TPE using 46/46 trials with best loss 26.868926\n",
      "INFO:fbprophet:Making 359 forecasts with cutoffs between 2017-12-31 00:00:00 and 2018-12-24 00:00:00\n"
     ]
    },
    {
     "name": "stdout",
     "output_type": "stream",
     "text": [
      "\r",
      " 94%|█████████▍| 47/50 [18:14:15<59:21, 1187.14s/trial, best loss: 26.868926279469186]  "
     ]
    },
    {
     "name": "stderr",
     "output_type": "stream",
     "text": [
      "INFO:hyperopt.tpe:build_posterior_wrapper took 0.001144 seconds\n",
      "INFO:hyperopt.tpe:TPE using 47/47 trials with best loss 26.868926\n",
      "INFO:fbprophet:Making 359 forecasts with cutoffs between 2017-12-31 00:00:00 and 2018-12-24 00:00:00\n"
     ]
    },
    {
     "name": "stdout",
     "output_type": "stream",
     "text": [
      "\r",
      " 96%|█████████▌| 48/50 [18:53:08<51:02, 1531.07s/trial, best loss: 26.868926279469186]"
     ]
    },
    {
     "name": "stderr",
     "output_type": "stream",
     "text": [
      "INFO:hyperopt.tpe:build_posterior_wrapper took 0.001237 seconds\n",
      "INFO:hyperopt.tpe:TPE using 48/48 trials with best loss 26.868926\n",
      "INFO:fbprophet:Making 359 forecasts with cutoffs between 2017-12-31 00:00:00 and 2018-12-24 00:00:00\n"
     ]
    },
    {
     "name": "stdout",
     "output_type": "stream",
     "text": [
      "\r",
      " 98%|█████████▊| 49/50 [19:11:09<23:16, 1396.07s/trial, best loss: 26.868926279469186]"
     ]
    },
    {
     "name": "stderr",
     "output_type": "stream",
     "text": [
      "INFO:hyperopt.tpe:build_posterior_wrapper took 0.002098 seconds\n",
      "INFO:hyperopt.tpe:TPE using 49/49 trials with best loss 26.868926\n",
      "INFO:fbprophet:Making 359 forecasts with cutoffs between 2017-12-31 00:00:00 and 2018-12-24 00:00:00\n"
     ]
    },
    {
     "name": "stdout",
     "output_type": "stream",
     "text": [
      "100%|██████████| 50/50 [19:31:09<00:00, 1405.39s/trial, best loss: 26.868926279469186]\n"
     ]
    }
   ],
   "source": [
    "start = timer()\n",
    "\n",
    "# New trials object\n",
    "trials = Trials()\n",
    "# Run 3 evals with the tpe algorithm\n",
    "best = fmin(fn=objective_fun, space=space, algo=tpe.suggest, trials=trials, \n",
    "                max_evals=params.max_number_of_trials, rstate= np.random.RandomState(120))\n",
    "end = timer()\n",
    "\n",
    "print(\"Time Elapsed: \", end-start)"
   ]
  },
  {
   "cell_type": "code",
   "execution_count": 129,
   "metadata": {},
   "outputs": [
    {
     "data": {
      "text/html": [
       "<div>\n",
       "<style scoped>\n",
       "    .dataframe tbody tr th:only-of-type {\n",
       "        vertical-align: middle;\n",
       "    }\n",
       "\n",
       "    .dataframe tbody tr th {\n",
       "        vertical-align: top;\n",
       "    }\n",
       "\n",
       "    .dataframe thead th {\n",
       "        text-align: right;\n",
       "    }\n",
       "</style>\n",
       "<table border=\"1\" class=\"dataframe\">\n",
       "  <thead>\n",
       "    <tr style=\"text-align: right;\">\n",
       "      <th></th>\n",
       "      <th>time</th>\n",
       "      <th>changepoint_prior_scale</th>\n",
       "      <th>seasonality_prior_scale</th>\n",
       "      <th>holidays_prior_scale</th>\n",
       "      <th>seasonality_mode</th>\n",
       "      <th>loss</th>\n",
       "      <th>iteration</th>\n",
       "    </tr>\n",
       "  </thead>\n",
       "  <tbody>\n",
       "    <tr>\n",
       "      <th>22</th>\n",
       "      <td>1375.748112</td>\n",
       "      <td>0.415356</td>\n",
       "      <td>0.017457</td>\n",
       "      <td>8.534135</td>\n",
       "      <td>additive</td>\n",
       "      <td>26.868926</td>\n",
       "      <td>22</td>\n",
       "    </tr>\n",
       "    <tr>\n",
       "      <th>20</th>\n",
       "      <td>1610.068800</td>\n",
       "      <td>0.486524</td>\n",
       "      <td>0.036358</td>\n",
       "      <td>9.766176</td>\n",
       "      <td>additive</td>\n",
       "      <td>27.054906</td>\n",
       "      <td>20</td>\n",
       "    </tr>\n",
       "    <tr>\n",
       "      <th>29</th>\n",
       "      <td>1273.756096</td>\n",
       "      <td>0.445326</td>\n",
       "      <td>0.036851</td>\n",
       "      <td>9.512480</td>\n",
       "      <td>additive</td>\n",
       "      <td>27.058571</td>\n",
       "      <td>29</td>\n",
       "    </tr>\n",
       "    <tr>\n",
       "      <th>24</th>\n",
       "      <td>1255.116876</td>\n",
       "      <td>0.433172</td>\n",
       "      <td>0.097348</td>\n",
       "      <td>8.601989</td>\n",
       "      <td>additive</td>\n",
       "      <td>27.138414</td>\n",
       "      <td>24</td>\n",
       "    </tr>\n",
       "    <tr>\n",
       "      <th>18</th>\n",
       "      <td>1309.131902</td>\n",
       "      <td>0.469848</td>\n",
       "      <td>5.099994</td>\n",
       "      <td>8.016793</td>\n",
       "      <td>additive</td>\n",
       "      <td>27.151286</td>\n",
       "      <td>18</td>\n",
       "    </tr>\n",
       "  </tbody>\n",
       "</table>\n",
       "</div>"
      ],
      "text/plain": [
       "           time  changepoint_prior_scale  seasonality_prior_scale  \\\n",
       "22  1375.748112                 0.415356                 0.017457   \n",
       "20  1610.068800                 0.486524                 0.036358   \n",
       "29  1273.756096                 0.445326                 0.036851   \n",
       "24  1255.116876                 0.433172                 0.097348   \n",
       "18  1309.131902                 0.469848                 5.099994   \n",
       "\n",
       "    holidays_prior_scale seasonality_mode       loss  iteration  \n",
       "22              8.534135         additive  26.868926         22  \n",
       "20              9.766176         additive  27.054906         20  \n",
       "29              9.512480         additive  27.058571         29  \n",
       "24              8.601989         additive  27.138414         24  \n",
       "18              8.016793         additive  27.151286         18  "
      ]
     },
     "execution_count": 129,
     "metadata": {},
     "output_type": "execute_result"
    }
   ],
   "source": [
    "# Results into a dataframe\n",
    "results = trials.results\n",
    "results_df = pd.DataFrame({'time': [x['time'] for x in results],\n",
    "                           'changepoint_prior_scale': [x['changepoint_prior_scale'] for x in results],\n",
    "                           'seasonality_prior_scale': [x['seasonality_prior_scale'] for x in results],\n",
    "                           'holidays_prior_scale': [x['holidays_prior_scale'] for x in results],\n",
    "                           'seasonality_mode': [x['seasonality_mode'] for x in results],\n",
    "                           'loss': [x['loss'] for x in results],\n",
    "                            'iteration': list(range(len(results)))})\n",
    "\n",
    "# Sort with lowest loss on top\n",
    "results_df = results_df.sort_values('loss', ascending = True)\n",
    "results_df.head()"
   ]
  },
  {
   "cell_type": "code",
   "execution_count": 130,
   "metadata": {},
   "outputs": [
    {
     "data": {
      "text/plain": [
       "<matplotlib.axes._subplots.AxesSubplot at 0x7f9ace22ef50>"
      ]
     },
     "execution_count": 130,
     "metadata": {},
     "output_type": "execute_result"
    },
    {
     "data": {
      "image/png": "[encoded data removed]",
      "text/plain": [
       "<Figure size 1296x576 with 1 Axes>"
      ]
     },
     "metadata": {
      "needs_background": "light"
     },
     "output_type": "display_data"
    }
   ],
   "source": [
    "results_df.plot.scatter(x='iteration', y ='loss')"
   ]
  },
  {
   "cell_type": "code",
   "execution_count": 22,
   "metadata": {
    "scrolled": true
   },
   "outputs": [],
   "source": [
    "wmt_cv = pd.read_csv(params.dataset+'//'+params.model_save_folder_name+'/prophet_results.csv')\n",
    "\n",
    "wmt_cv['ds'] = pd.to_datetime(wmt_cv['ds'].astype(str), format='%Y-%m-%d')\n",
    "wmt_cv['cutoff'] = pd.to_datetime(wmt_cv['cutoff'].astype(str), format='%Y-%m-%d')\n",
    "wmt_cv['horizon'] = wmt_cv.ds - wmt_cv.cutoff"
   ]
  },
  {
   "cell_type": "code",
   "execution_count": 23,
   "metadata": {},
   "outputs": [
    {
     "data": {
      "text/html": [
       "<div>\n",
       "<style scoped>\n",
       "    .dataframe tbody tr th:only-of-type {\n",
       "        vertical-align: middle;\n",
       "    }\n",
       "\n",
       "    .dataframe tbody tr th {\n",
       "        vertical-align: top;\n",
       "    }\n",
       "\n",
       "    .dataframe thead th {\n",
       "        text-align: right;\n",
       "    }\n",
       "</style>\n",
       "<table border=\"1\" class=\"dataframe\">\n",
       "  <thead>\n",
       "    <tr style=\"text-align: right;\">\n",
       "      <th></th>\n",
       "      <th>horizon</th>\n",
       "      <th>mse</th>\n",
       "      <th>rmse</th>\n",
       "      <th>mae</th>\n",
       "      <th>mape</th>\n",
       "      <th>mdape</th>\n",
       "      <th>coverage</th>\n",
       "    </tr>\n",
       "  </thead>\n",
       "  <tbody>\n",
       "    <tr>\n",
       "      <th>0</th>\n",
       "      <td>7 days</td>\n",
       "      <td>721.939199</td>\n",
       "      <td>26.868926</td>\n",
       "      <td>20.925131</td>\n",
       "      <td>0.335675</td>\n",
       "      <td>0.229483</td>\n",
       "      <td>0.872662</td>\n",
       "    </tr>\n",
       "  </tbody>\n",
       "</table>\n",
       "</div>"
      ],
      "text/plain": [
       "  horizon         mse       rmse        mae      mape     mdape  coverage\n",
       "0  7 days  721.939199  26.868926  20.925131  0.335675  0.229483  0.872662"
      ]
     },
     "execution_count": 23,
     "metadata": {},
     "output_type": "execute_result"
    }
   ],
   "source": [
    "performance_metrics(wmt_cv, rolling_window=1)"
   ]
  },
  {
   "cell_type": "markdown",
   "metadata": {},
   "source": [
    "#### Evaluate on test set"
   ]
  },
  {
   "cell_type": "markdown",
   "metadata": {},
   "source": [
    "##### MAE"
   ]
  },
  {
   "cell_type": "code",
   "execution_count": 24,
   "metadata": {},
   "outputs": [
    {
     "name": "stdout",
     "output_type": "stream",
     "text": [
      "MAE per sample:  20.925130838992146\n"
     ]
    },
    {
     "data": {
      "text/plain": [
       "horizon\n",
       "1 days    20.287188\n",
       "2 days    20.515695\n",
       "3 days    20.708260\n",
       "4 days    20.943320\n",
       "5 days    21.183981\n",
       "6 days    21.355709\n",
       "7 days    21.481763\n",
       "dtype: float64"
      ]
     },
     "execution_count": 24,
     "metadata": {},
     "output_type": "execute_result"
    }
   ],
   "source": [
    "total_len = len(wmt_cv.groupby('cutoff').apply(lambda x: mean_absolute_error(x.y, x.yhat)))\n",
    "mae_per_sample = wmt_cv.groupby('cutoff').apply(lambda x: mean_absolute_error(x.y, x.yhat)).sum()/total_len\n",
    "print('MAE per sample: ', mae_per_sample)\n",
    "\n",
    "# Calculate MAE over all folds at each horizon\n",
    "wmt_cv.groupby('horizon').apply(lambda x: mean_absolute_error(x.y, x.yhat))"
   ]
  },
  {
   "cell_type": "markdown",
   "metadata": {},
   "source": [
    "##### RMSE"
   ]
  },
  {
   "cell_type": "code",
   "execution_count": 138,
   "metadata": {
    "scrolled": true
   },
   "outputs": [
    {
     "name": "stdout",
     "output_type": "stream",
     "text": [
      "RMSE per sample:  24.196170690458995\n"
     ]
    },
    {
     "data": {
      "text/plain": [
       "horizon\n",
       "1 days    25.986672\n",
       "2 days    26.281888\n",
       "3 days    26.521793\n",
       "4 days    26.911092\n",
       "5 days    27.249834\n",
       "6 days    27.445912\n",
       "7 days    27.642101\n",
       "dtype: float64"
      ]
     },
     "execution_count": 138,
     "metadata": {},
     "output_type": "execute_result"
    }
   ],
   "source": [
    "total_len = len(wmt_cv.groupby('cutoff').apply(lambda x: mean_squared_error(x.y, x.yhat, squared=False)))\n",
    "rmse_per_sample = wmt_cv.groupby('cutoff').apply(lambda x: mean_squared_error(x.y, x.yhat, squared=False)).sum()/total_len\n",
    "print('RMSE per sample: ', rmse_per_sample)\n",
    "\n",
    "# Calculate RMSE over all folds at each horizon\n",
    "wmt_cv.groupby('horizon').apply(lambda x: mean_squared_error(x.y, x.yhat, squared=False))"
   ]
  }
 ],
 "metadata": {
  "colab": {
   "collapsed_sections": [],
   "name": "v2_gcp_time_series_forecasting.ipynb",
   "provenance": [],
   "toc_visible": true,
   "version": "0.3.2"
  },
  "kernelspec": {
   "display_name": "Python 3",
   "language": "python",
   "name": "python3"
  },
  "language_info": {
   "codemirror_mode": {
    "name": "ipython",
    "version": 3
   },
   "file_extension": ".py",
   "mimetype": "text/x-python",
   "name": "python",
   "nbconvert_exporter": "python",
   "pygments_lexer": "ipython3",
   "version": "3.7.7"
  }
 },
 "nbformat": 4,
 "nbformat_minor": 1
}
