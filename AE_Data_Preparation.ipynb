{
 "cells": [
  {
   "cell_type": "code",
   "execution_count": 46,
   "metadata": {},
   "outputs": [],
   "source": [
    "import pandas as pd\n",
    "import numpy as np\n",
    "import os\n",
    "import matplotlib\n",
    "import matplotlib.pyplot as plt\n",
    "import warnings\n",
    "import utils\n",
    "warnings.filterwarnings(\"ignore\")\n",
    "\n",
    "from scipy import stats\n",
    "from scipy.stats.stats import pearsonr   \n",
    "from pandas import read_csv\n",
    "from matplotlib import pyplot\n",
    "from statsmodels.tsa.seasonal import seasonal_decompose\n",
    "from datetime import datetime, timedelta\n",
    "\n",
    "params = utils.Params('init_params.json')"
   ]
  },
  {
   "cell_type": "code",
   "execution_count": 47,
   "metadata": {},
   "outputs": [],
   "source": [
    "csv_path = params.csv_path\n",
    "dataset = params.dataset\n",
    "window_size = params.window_size\n",
    "stride_size = params.stride_size\n",
    "num_covariates = params.num_covariates\n",
    "pred_days= params.pred_days"
   ]
  },
  {
   "cell_type": "code",
   "execution_count": 48,
   "metadata": {},
   "outputs": [],
   "source": [
    "lag= window_size-pred_days-stride_size"
   ]
  },
  {
   "cell_type": "markdown",
   "metadata": {},
   "source": [
    "### Load Data "
   ]
  },
  {
   "cell_type": "code",
   "execution_count": 49,
   "metadata": {},
   "outputs": [
    {
     "name": "stdout",
     "output_type": "stream",
     "text": [
      "Number of rows and columns: (2342, 10)\n"
     ]
    },
    {
     "data": {
      "text/html": [
       "<div>\n",
       "<style scoped>\n",
       "    .dataframe tbody tr th:only-of-type {\n",
       "        vertical-align: middle;\n",
       "    }\n",
       "\n",
       "    .dataframe tbody tr th {\n",
       "        vertical-align: top;\n",
       "    }\n",
       "\n",
       "    .dataframe thead th {\n",
       "        text-align: right;\n",
       "    }\n",
       "</style>\n",
       "<table border=\"1\" class=\"dataframe\">\n",
       "  <thead>\n",
       "    <tr style=\"text-align: right;\">\n",
       "      <th></th>\n",
       "      <th>PM2.5</th>\n",
       "      <th>PM10</th>\n",
       "      <th>SO2</th>\n",
       "      <th>CO</th>\n",
       "      <th>NOx</th>\n",
       "      <th>O3</th>\n",
       "      <th>WS</th>\n",
       "      <th>Temp</th>\n",
       "      <th>RH</th>\n",
       "      <th>RF</th>\n",
       "    </tr>\n",
       "    <tr>\n",
       "      <th>Date</th>\n",
       "      <th></th>\n",
       "      <th></th>\n",
       "      <th></th>\n",
       "      <th></th>\n",
       "      <th></th>\n",
       "      <th></th>\n",
       "      <th></th>\n",
       "      <th></th>\n",
       "      <th></th>\n",
       "      <th></th>\n",
       "    </tr>\n",
       "  </thead>\n",
       "  <tbody>\n",
       "    <tr>\n",
       "      <th>2013-01-01</th>\n",
       "      <td>240.365653</td>\n",
       "      <td>404.141923</td>\n",
       "      <td>4.0392</td>\n",
       "      <td>0.3567</td>\n",
       "      <td>19.6254</td>\n",
       "      <td>6.5769</td>\n",
       "      <td>1.3795</td>\n",
       "      <td>17.8800</td>\n",
       "      <td>69.8887</td>\n",
       "      <td>0.0583</td>\n",
       "    </tr>\n",
       "    <tr>\n",
       "      <th>2013-01-02</th>\n",
       "      <td>267.760636</td>\n",
       "      <td>447.535746</td>\n",
       "      <td>3.9436</td>\n",
       "      <td>0.3086</td>\n",
       "      <td>13.4329</td>\n",
       "      <td>4.5049</td>\n",
       "      <td>1.4104</td>\n",
       "      <td>18.6961</td>\n",
       "      <td>67.1973</td>\n",
       "      <td>0.0467</td>\n",
       "    </tr>\n",
       "    <tr>\n",
       "      <th>2013-01-03</th>\n",
       "      <td>262.088263</td>\n",
       "      <td>449.070512</td>\n",
       "      <td>3.8702</td>\n",
       "      <td>0.3405</td>\n",
       "      <td>16.0926</td>\n",
       "      <td>5.3954</td>\n",
       "      <td>1.6614</td>\n",
       "      <td>20.0829</td>\n",
       "      <td>68.4158</td>\n",
       "      <td>0.0482</td>\n",
       "    </tr>\n",
       "    <tr>\n",
       "      <th>2013-01-04</th>\n",
       "      <td>222.661851</td>\n",
       "      <td>372.724157</td>\n",
       "      <td>4.2239</td>\n",
       "      <td>0.3858</td>\n",
       "      <td>19.5855</td>\n",
       "      <td>6.5480</td>\n",
       "      <td>1.2790</td>\n",
       "      <td>20.1200</td>\n",
       "      <td>70.4625</td>\n",
       "      <td>0.0226</td>\n",
       "    </tr>\n",
       "    <tr>\n",
       "      <th>2013-01-05</th>\n",
       "      <td>164.089142</td>\n",
       "      <td>278.164502</td>\n",
       "      <td>4.0392</td>\n",
       "      <td>0.5365</td>\n",
       "      <td>31.8197</td>\n",
       "      <td>10.6209</td>\n",
       "      <td>1.3413</td>\n",
       "      <td>18.7043</td>\n",
       "      <td>62.1733</td>\n",
       "      <td>0.0200</td>\n",
       "    </tr>\n",
       "  </tbody>\n",
       "</table>\n",
       "</div>"
      ],
      "text/plain": [
       "                 PM2.5        PM10     SO2      CO      NOx       O3      WS  \\\n",
       "Date                                                                           \n",
       "2013-01-01  240.365653  404.141923  4.0392  0.3567  19.6254   6.5769  1.3795   \n",
       "2013-01-02  267.760636  447.535746  3.9436  0.3086  13.4329   4.5049  1.4104   \n",
       "2013-01-03  262.088263  449.070512  3.8702  0.3405  16.0926   5.3954  1.6614   \n",
       "2013-01-04  222.661851  372.724157  4.2239  0.3858  19.5855   6.5480  1.2790   \n",
       "2013-01-05  164.089142  278.164502  4.0392  0.5365  31.8197  10.6209  1.3413   \n",
       "\n",
       "               Temp       RH      RF  \n",
       "Date                                  \n",
       "2013-01-01  17.8800  69.8887  0.0583  \n",
       "2013-01-02  18.6961  67.1973  0.0467  \n",
       "2013-01-03  20.0829  68.4158  0.0482  \n",
       "2013-01-04  20.1200  70.4625  0.0226  \n",
       "2013-01-05  18.7043  62.1733  0.0200  "
      ]
     },
     "execution_count": 49,
     "metadata": {},
     "output_type": "execute_result"
    }
   ],
   "source": [
    "df_org=pd.read_csv(csv_path, index_col='Date', parse_dates=['Date'])\n",
    "print('Number of rows and columns:', df_org.shape)\n",
    "# Looking at the PM2.5 column\n",
    "df = df_org.copy()\n",
    "df.head(5)"
   ]
  },
  {
   "cell_type": "code",
   "execution_count": 50,
   "metadata": {},
   "outputs": [
    {
     "data": {
      "text/plain": [
       "<matplotlib.axes._subplots.AxesSubplot at 0x2221271a6c8>"
      ]
     },
     "execution_count": 50,
     "metadata": {},
     "output_type": "execute_result"
    },
    {
     "data": {
      "image/png": "[encoded data removed]",
      "text/plain": [
       "<Figure size 432x288 with 1 Axes>"
      ]
     },
     "metadata": {
      "needs_background": "light"
     },
     "output_type": "display_data"
    }
   ],
   "source": [
    "## Plotting pm2.5 values\n",
    "df['PM2.5'].plot()"
   ]
  },
  {
   "cell_type": "code",
   "execution_count": 51,
   "metadata": {},
   "outputs": [
    {
     "data": {
      "image/png": "[encoded data removed]",
      "text/plain": [
       "<Figure size 432x288 with 4 Axes>"
      ]
     },
     "metadata": {
      "needs_background": "light"
     },
     "output_type": "display_data"
    }
   ],
   "source": [
    "#### Time series plotting\n",
    "series = df['PM2.5'].asfreq('D')\n",
    "result = seasonal_decompose(series, model='multiplicative')\n",
    "result.plot()\n",
    "pyplot.show()"
   ]
  },
  {
   "cell_type": "code",
   "execution_count": 52,
   "metadata": {},
   "outputs": [
    {
     "data": {
      "text/plain": [
       "<matplotlib.axes._subplots.AxesSubplot at 0x222128e8e08>"
      ]
     },
     "execution_count": 52,
     "metadata": {},
     "output_type": "execute_result"
    },
    {
     "data": {
      "image/png": "[encoded data removed]",
      "text/plain": [
       "<Figure size 432x288 with 1 Axes>"
      ]
     },
     "metadata": {
      "needs_background": "light"
     },
     "output_type": "display_data"
    }
   ],
   "source": [
    "#### Check Monthly plot\n",
    "df[\"PM2.5\"].asfreq('M').plot()"
   ]
  },
  {
   "cell_type": "code",
   "execution_count": 53,
   "metadata": {},
   "outputs": [
    {
     "data": {
      "image/png": "[encoded data removed]",
      "text/plain": [
       "<Figure size 720x864 with 1 Axes>"
      ]
     },
     "metadata": {
      "needs_background": "light"
     },
     "output_type": "display_data"
    }
   ],
   "source": [
    "#### Check Dailly plot\n",
    "df[\"PM2.5\"][df.index>'2018-12-25'].asfreq('D').plot(subplots=True, figsize=(10,12))\n",
    "plt.title('PM2.5 data daily')\n",
    "#plt.savefig('stocks.png')\n",
    "plt.show()"
   ]
  },
  {
   "cell_type": "markdown",
   "metadata": {},
   "source": [
    "## Dataset Preparation"
   ]
  },
  {
   "cell_type": "code",
   "execution_count": 54,
   "metadata": {},
   "outputs": [],
   "source": [
    "def create_directory(save_path):\n",
    "    if not os.path.exists(save_path):\n",
    "        os.makedirs(save_path)"
   ]
  },
  {
   "cell_type": "code",
   "execution_count": 55,
   "metadata": {},
   "outputs": [],
   "source": [
    "global save_path\n",
    "save_path = os.path.join(dataset, 'cross_validation')\n",
    "create_directory(save_path)"
   ]
  },
  {
   "cell_type": "markdown",
   "metadata": {},
   "source": [
    "#### Cross validation"
   ]
  },
  {
   "cell_type": "code",
   "execution_count": 56,
   "metadata": {},
   "outputs": [],
   "source": [
    "data_frame_org = pd.read_csv(csv_path, index_col=0, parse_dates=True)\n",
    "data_frame = data_frame_org.copy()"
   ]
  },
  {
   "cell_type": "code",
   "execution_count": 57,
   "metadata": {},
   "outputs": [],
   "source": [
    "def get_k_fold_indexes(data_frame: pd.DataFrame, split:int = 4, cycle:int = 365, lag_days:int = lag)->dict:\n",
    "    \n",
    "    \"\"\"Splits the dataset in \"split\" parts and returns splitted datasets.\n",
    "    \n",
    "    Arguments\n",
    "    ---------\n",
    "    data_frame: Original dataset\n",
    "    split: Number of splits\n",
    "    cycle: Number of instances in one cycle\n",
    "    lag_days: previous n days\n",
    "    \n",
    "    Returns\n",
    "    ---------   \n",
    "    tscv: dict which holds start and end dates of  train, test,validation sets of each folds\n",
    "    \n",
    "    \"\"\"\n",
    "    \n",
    "    train_start = 0\n",
    "    tscv ={}\n",
    "    for index in range(split):\n",
    "        if index not in tscv:\n",
    "            tscv[index] = {}\n",
    "            tscv[index]['train_start'] = data_frame.iloc[0].name.strftime('%Y-%m-%d')\n",
    "            tscv[index]['train_end'] = data_frame.iloc[cycle*(index+1)].name.strftime('%Y-%m-%d')\n",
    "            \n",
    "            tscv[index]['val_start'] = data_frame.iloc[cycle*(index+1)-lag_days].name.strftime('%Y-%m-%d')\n",
    "            tscv[index]['val_end'] = data_frame.iloc[cycle*(index+2)].name.strftime('%Y-%m-%d')          \n",
    "\n",
    "            tscv[index]['test_start'] = data_frame.iloc[cycle*(index+2)-lag_days].name.strftime('%Y-%m-%d')\n",
    "            tscv[index]['test_end'] = data_frame.iloc[cycle*(index+3)].name.strftime('%Y-%m-%d')\n",
    "    return tscv"
   ]
  },
  {
   "cell_type": "code",
   "execution_count": 58,
   "metadata": {},
   "outputs": [],
   "source": [
    "kfold_indexes = get_k_fold_indexes(data_frame)"
   ]
  },
  {
   "cell_type": "code",
   "execution_count": 59,
   "metadata": {},
   "outputs": [
    {
     "data": {
      "text/plain": [
       "{0: {'train_start': '2013-01-01',\n",
       "  'train_end': '2014-01-01',\n",
       "  'val_start': '2013-10-03',\n",
       "  'val_end': '2015-01-01',\n",
       "  'test_start': '2014-10-03',\n",
       "  'test_end': '2016-01-01'},\n",
       " 1: {'train_start': '2013-01-01',\n",
       "  'train_end': '2015-01-01',\n",
       "  'val_start': '2014-10-03',\n",
       "  'val_end': '2016-01-01',\n",
       "  'test_start': '2015-10-03',\n",
       "  'test_end': '2016-12-31'},\n",
       " 2: {'train_start': '2013-01-01',\n",
       "  'train_end': '2016-01-01',\n",
       "  'val_start': '2015-10-03',\n",
       "  'val_end': '2016-12-31',\n",
       "  'test_start': '2016-10-02',\n",
       "  'test_end': '2017-12-31'},\n",
       " 3: {'train_start': '2013-01-01',\n",
       "  'train_end': '2016-12-31',\n",
       "  'val_start': '2016-10-02',\n",
       "  'val_end': '2017-12-31',\n",
       "  'test_start': '2017-10-02',\n",
       "  'test_end': '2018-12-31'}}"
      ]
     },
     "execution_count": 59,
     "metadata": {},
     "output_type": "execute_result"
    }
   ],
   "source": [
    "kfold_indexes"
   ]
  },
  {
   "cell_type": "markdown",
   "metadata": {},
   "source": [
    "#### Cyclical transformation example"
   ]
  },
  {
   "cell_type": "code",
   "execution_count": 60,
   "metadata": {},
   "outputs": [
    {
     "data": {
      "text/html": [
       "<div>\n",
       "<style scoped>\n",
       "    .dataframe tbody tr th:only-of-type {\n",
       "        vertical-align: middle;\n",
       "    }\n",
       "\n",
       "    .dataframe tbody tr th {\n",
       "        vertical-align: top;\n",
       "    }\n",
       "\n",
       "    .dataframe thead th {\n",
       "        text-align: right;\n",
       "    }\n",
       "</style>\n",
       "<table border=\"1\" class=\"dataframe\">\n",
       "  <thead>\n",
       "    <tr style=\"text-align: right;\">\n",
       "      <th></th>\n",
       "      <th>seconds</th>\n",
       "    </tr>\n",
       "  </thead>\n",
       "  <tbody>\n",
       "    <tr>\n",
       "      <th>0</th>\n",
       "      <td>0</td>\n",
       "    </tr>\n",
       "    <tr>\n",
       "      <th>1</th>\n",
       "      <td>0</td>\n",
       "    </tr>\n",
       "    <tr>\n",
       "      <th>2</th>\n",
       "      <td>0</td>\n",
       "    </tr>\n",
       "    <tr>\n",
       "      <th>3</th>\n",
       "      <td>0</td>\n",
       "    </tr>\n",
       "    <tr>\n",
       "      <th>4</th>\n",
       "      <td>0</td>\n",
       "    </tr>\n",
       "  </tbody>\n",
       "</table>\n",
       "</div>"
      ],
      "text/plain": [
       "   seconds\n",
       "0        0\n",
       "1        0\n",
       "2        0\n",
       "3        0\n",
       "4        0"
      ]
     },
     "execution_count": 60,
     "metadata": {},
     "output_type": "execute_result"
    }
   ],
   "source": [
    "def rand_times(n):\n",
    "    \"\"\"Generate n rows of random 12 months times (seconds past midnight)\"\"\"\n",
    "    rand_seconds = np.random.randint(0, 52, n)\n",
    "    return pd.DataFrame(data=dict(seconds=rand_seconds))\n",
    "\n",
    "n_rows = 1000\n",
    "\n",
    "df = rand_times(n_rows)\n",
    "# sort for the sake of graphing\n",
    "df = df.sort_values('seconds').reset_index(drop=True)\n",
    "df.head()"
   ]
  },
  {
   "cell_type": "code",
   "execution_count": 61,
   "metadata": {},
   "outputs": [
    {
     "data": {
      "text/html": [
       "<div>\n",
       "<style scoped>\n",
       "    .dataframe tbody tr th:only-of-type {\n",
       "        vertical-align: middle;\n",
       "    }\n",
       "\n",
       "    .dataframe tbody tr th {\n",
       "        vertical-align: top;\n",
       "    }\n",
       "\n",
       "    .dataframe thead th {\n",
       "        text-align: right;\n",
       "    }\n",
       "</style>\n",
       "<table border=\"1\" class=\"dataframe\">\n",
       "  <thead>\n",
       "    <tr style=\"text-align: right;\">\n",
       "      <th></th>\n",
       "      <th>sin_time</th>\n",
       "      <th>cos_time</th>\n",
       "    </tr>\n",
       "  </thead>\n",
       "  <tbody>\n",
       "    <tr>\n",
       "      <th>0</th>\n",
       "      <td>0.0</td>\n",
       "      <td>1.0</td>\n",
       "    </tr>\n",
       "    <tr>\n",
       "      <th>1</th>\n",
       "      <td>0.0</td>\n",
       "      <td>1.0</td>\n",
       "    </tr>\n",
       "    <tr>\n",
       "      <th>2</th>\n",
       "      <td>0.0</td>\n",
       "      <td>1.0</td>\n",
       "    </tr>\n",
       "    <tr>\n",
       "      <th>3</th>\n",
       "      <td>0.0</td>\n",
       "      <td>1.0</td>\n",
       "    </tr>\n",
       "    <tr>\n",
       "      <th>4</th>\n",
       "      <td>0.0</td>\n",
       "      <td>1.0</td>\n",
       "    </tr>\n",
       "  </tbody>\n",
       "</table>\n",
       "</div>"
      ],
      "text/plain": [
       "   sin_time  cos_time\n",
       "0       0.0       1.0\n",
       "1       0.0       1.0\n",
       "2       0.0       1.0\n",
       "3       0.0       1.0\n",
       "4       0.0       1.0"
      ]
     },
     "execution_count": 61,
     "metadata": {},
     "output_type": "execute_result"
    }
   ],
   "source": [
    "weeks_in_year = 52 # hour*minutes*seconds # 365*52*7\n",
    "\n",
    "df['sin_time'] = np.sin(2*np.pi*df.seconds/weeks_in_year)\n",
    "df['cos_time'] = np.cos(2*np.pi*df.seconds/weeks_in_year)\n",
    "\n",
    "df.drop('seconds', axis=1, inplace=True)\n",
    "\n",
    "df.head()"
   ]
  },
  {
   "cell_type": "code",
   "execution_count": 62,
   "metadata": {
    "scrolled": true
   },
   "outputs": [
    {
     "data": {
      "image/png": "[encoded data removed]",
      "text/plain": [
       "<Figure size 432x288 with 1 Axes>"
      ]
     },
     "metadata": {
      "needs_background": "light"
     },
     "output_type": "display_data"
    },
    {
     "data": {
      "image/png": "[encoded data removed]",
      "text/plain": [
       "<Figure size 432x288 with 1 Axes>"
      ]
     },
     "metadata": {
      "needs_background": "light"
     },
     "output_type": "display_data"
    }
   ],
   "source": [
    "df.sin_time.plot()\n",
    "df.cos_time.plot()\n",
    "df.sample(50).plot.scatter('sin_time','cos_time').set_aspect('equal');"
   ]
  },
  {
   "cell_type": "markdown",
   "metadata": {},
   "source": [
    "#### Generate co-variates"
   ]
  },
  {
   "cell_type": "code",
   "execution_count": 63,
   "metadata": {},
   "outputs": [],
   "source": [
    "def gen_covariates(data_frame: pd.DataFrame, times:pd.core.indexes.datetimes.DatetimeIndex, num_covariates:int , verbose = 0):\n",
    "    \n",
    "    \"\"\"Generates normalized covariates w.r.t the given dataset\n",
    "    \n",
    "    Arguments\n",
    "    ---------\n",
    "    data_frame: Original dataset\n",
    "    times: array of dates of the dataframe \n",
    "    num_covariates: Number of covariates to use\n",
    "    \n",
    "    Returns\n",
    "    ---------   \n",
    "    covariates: dataframe with generated covariates\n",
    "    \n",
    "    \"\"\"    \n",
    "\n",
    "    print(times.shape[0])\n",
    "    covariates = np.zeros((times.shape[0], num_covariates))\n",
    "    #print(covariates)\n",
    "    '''for i, input_time in enumerate(times):\n",
    "        covariates[i, 1] = input_time.weekday()\n",
    "        covariates[i, 2] = input_time.week\n",
    "        covariates[i, 3] = input_time.month'''\n",
    "\n",
    "    covariates[:, 1] = np.sin(2*np.pi*data_frame.index.weekday/7) #input_time.weekday\n",
    "    covariates[:, 2] = np.cos(2*np.pi*data_frame.index.weekday/7) #input_time.weekday\n",
    "    \n",
    "    covariates[:, 3] = np.sin(2*np.pi*data_frame.index.week/52) #input_time.week\n",
    "    covariates[:, 4] = np.cos(2*np.pi*data_frame.index.week/52) #input_time.week\n",
    "    \n",
    "    covariates[:, 5] = np.sin(2*np.pi*data_frame.index.month/12) #input_time.month\n",
    "    covariates[:, 6] = np.cos(2*np.pi*data_frame.index.month/12) #input_time.month\n",
    "    \n",
    "    #PM2.5\tPM10\tSO2\tCO\tNOx\tO3\tWS\tTemp\tRH\tRF\n",
    "    #feature_list = ['#WS','WD','T','RH','#SR','BP','#R','NOX','SO2','O3','CO']\n",
    "    feature_list = ['WS','Temp','RH','RF','NOx','SO2','O3','CO']\n",
    "    \n",
    "    for i,val in enumerate(feature_list):\n",
    "        #print(i+4, (data_frame[val]-data_frame[val].min())/(data_frame[val].max()-data_frame[val].min()))\n",
    "        covariates[:, i+7] = (data_frame[val]-data_frame[val].min())/(data_frame[val].max()-data_frame[val].min())\n",
    "    if verbose:\n",
    "        for i in range(1,num_covariates):\n",
    "            print(i, covariates[:,i].min(),covariates[:,i].max())\n",
    "            \n",
    "    print(covariates[:, :num_covariates].shape, covariates.shape)\n",
    "    return covariates[:, :num_covariates]"
   ]
  },
  {
   "cell_type": "code",
   "execution_count": 64,
   "metadata": {},
   "outputs": [],
   "source": [
    "def prep_data(data:pd.DataFrame, covariates:np.ndarray, data_start:np.ndarray, train:bool = True):\n",
    "    \n",
    "    \"\"\" Preprocess dataset according to window_size, stride and prediction horizon.\n",
    "    \n",
    "    Arguments\n",
    "    ---------\n",
    "    data: Original dataset\n",
    "    covariates: generated covariates\n",
    "    data_start: array of first non zero indexes for all datasets\n",
    "    train: decide wheather preparing data for training sets\n",
    "    \n",
    "    Returns\n",
    "    ---------   \n",
    "    x_input: array of x values\n",
    "    label: array of y values\n",
    "    prediction_days: array of date of prediction days\n",
    "    \n",
    "    \"\"\"    \n",
    "    \n",
    "    dates = data.index.strftime('%Y-%m-%d').values\n",
    "    data = data.values\n",
    "    \n",
    "    #print(\"train: \", train)\n",
    "    time_len = data.shape[0]\n",
    "    print(\"time_len: \", time_len)\n",
    "    input_size = window_size-stride_size\n",
    "    print(num_series)\n",
    "    windows_per_series = np.full((num_series), (time_len-input_size) // stride_size) # here series~time_series\n",
    "    if train: windows_per_series -= (data_start+stride_size-1) // stride_size\n",
    "        \n",
    "    print(\"windows_per_series, windows_per_series.shape , input_size: \", windows_per_series, windows_per_series.shape, input_size)\n",
    "\n",
    "    print(\"data_start: \", data_start, data_start.shape)\n",
    "    #print(\"windows: \", windows_per_series, windows_per_series.shape)\n",
    "    total_windows = np.sum(windows_per_series)\n",
    "    #print('total_windows:',total_windows)\n",
    "    x_input = np.zeros((total_windows, window_size-pred_days, 1+num_covariates), dtype='float32') \n",
    "    label = np.zeros((total_windows, pred_days,1), dtype='float32') # shape: total_windows, predicted values per window\n",
    "    prediction_days = np.zeros((total_windows, 1), dtype= object)\n",
    "    \n",
    "    #v_input = np.zeros((total_windows, 1), dtype='float32')\n",
    "    #cov = 3: ground truth + age + day_of_week + hour_of_day + num_series\n",
    "    #cov = 4: ground truth + age + day_of_week + hour_of_day + month_of_year + num_series\n",
    "\n",
    "    count = 0 # number of windows\n",
    "    if not train:\n",
    "        covariates = covariates[-time_len:]\n",
    "    for series in range(num_series):\n",
    "        cov_index = stats.zscore(np.arange(total_time-data_start[series]))\n",
    "        if train:\n",
    "            covariates[data_start[series]:time_len, 0] = cov_index[:time_len-data_start[series]]\n",
    "            #print('data_start[series]:time_len',data_start[series],time_len )\n",
    "        else:\n",
    "            covariates[:, 0] = cov_index[-time_len:]\n",
    "            #print('-time_len', -time_len)\n",
    "            \n",
    "        #print(total_time, data_start[series])\n",
    "        for i in range(windows_per_series[series]): #iterate through the windows of the series: total_observation//stride size\n",
    "            if train:\n",
    "                window_start = stride_size*i+data_start[series] # first non zero index: 8759, window_start = 8759\n",
    "            else:\n",
    "                window_start = stride_size*i\n",
    "            window_end = window_start+window_size # window_end = 8951\n",
    "            if count<3:\n",
    "                print('series:', series, ',count:', count, ',i:', i)\n",
    "                #print(\"x: \", x_input[count, 1:, 0].shape)\n",
    "                print(\"window start: \", window_start)\n",
    "                print(\"window end: \", window_end)\n",
    "                #print(\"data: \", data.shape)\n",
    "                #print(\"d: \", data[window_start:window_end-1, series].shape)\n",
    "            \n",
    "            x_input[count, :, 0] = data[window_start:window_end-pred_days, series] # excluding LAST 7 hours value\n",
    "            #print('pm2.5: ', x_input[count, :, 0][0:5])\n",
    "            #print('covariates[window_start:window_end-pred_days, 0]', covariates[window_start:window_end-pred_days, 0][0:10])\n",
    "            x_input[count, :, 1:num_covariates+1] = covariates[window_start:window_end-pred_days, :]\n",
    "            #print('x_input[count, :, 1]', x_input[count, :, 1][0:10])\n",
    "            prediction_days[count] = str(dates[window_end-pred_days])\n",
    "            label[count,:,0] = data[window_end-pred_days:window_end, series] # label includes future pred_days which is to be forecasted\n",
    "            count += 1\n",
    "\n",
    "    print(x_input.shape, label.shape)#, v_input.shape)\n",
    "    return x_input, label, prediction_days\n"
   ]
  },
  {
   "cell_type": "markdown",
   "metadata": {},
   "source": [
    "#### Prepare datasets from cross validation "
   ]
  },
  {
   "cell_type": "code",
   "execution_count": 65,
   "metadata": {
    "scrolled": false
   },
   "outputs": [
    {
     "name": "stdout",
     "output_type": "stream",
     "text": [
      "366\n",
      "(366, 16) (366, 16)\n",
      "time_len:  366\n",
      "1\n",
      "windows_per_series, windows_per_series.shape , input_size:  [269] (1,) 97\n",
      "data_start:  [0] (1,)\n",
      "series: 0 ,count: 0 ,i: 0\n",
      "window start:  0\n",
      "window end:  98\n",
      "series: 0 ,count: 1 ,i: 1\n",
      "window start:  1\n",
      "window end:  99\n",
      "series: 0 ,count: 2 ,i: 2\n",
      "window start:  2\n",
      "window end:  100\n",
      "(269, 91, 17) (269, 7, 1)\n",
      "\n",
      " Validation\n",
      "\n",
      "456\n",
      "(456, 16) (456, 16)\n",
      "time_len:  456\n",
      "1\n",
      "windows_per_series, windows_per_series.shape , input_size:  [359] (1,) 97\n",
      "data_start:  [0] (1,)\n",
      "series: 0 ,count: 0 ,i: 0\n",
      "window start:  0\n",
      "window end:  98\n",
      "series: 0 ,count: 1 ,i: 1\n",
      "window start:  1\n",
      "window end:  99\n",
      "series: 0 ,count: 2 ,i: 2\n",
      "window start:  2\n",
      "window end:  100\n",
      "(359, 91, 17) (359, 7, 1)\n",
      "\n",
      " Test\n",
      "\n",
      "456\n",
      "(456, 16) (456, 16)\n",
      "time_len:  456\n",
      "1\n",
      "windows_per_series, windows_per_series.shape , input_size:  [359] (1,) 97\n",
      "data_start:  [0] (1,)\n",
      "series: 0 ,count: 0 ,i: 0\n",
      "window start:  0\n",
      "window end:  98\n",
      "series: 0 ,count: 1 ,i: 1\n",
      "window start:  1\n",
      "window end:  99\n",
      "series: 0 ,count: 2 ,i: 2\n",
      "window start:  2\n",
      "window end:  100\n",
      "(359, 91, 17) (359, 7, 1)\n",
      "731\n",
      "(731, 16) (731, 16)\n",
      "time_len:  731\n",
      "1\n",
      "windows_per_series, windows_per_series.shape , input_size:  [634] (1,) 97\n",
      "data_start:  [0] (1,)\n",
      "series: 0 ,count: 0 ,i: 0\n",
      "window start:  0\n",
      "window end:  98\n",
      "series: 0 ,count: 1 ,i: 1\n",
      "window start:  1\n",
      "window end:  99\n",
      "series: 0 ,count: 2 ,i: 2\n",
      "window start:  2\n",
      "window end:  100\n",
      "(634, 91, 17) (634, 7, 1)\n",
      "\n",
      " Validation\n",
      "\n",
      "456\n",
      "(456, 16) (456, 16)\n",
      "time_len:  456\n",
      "1\n",
      "windows_per_series, windows_per_series.shape , input_size:  [359] (1,) 97\n",
      "data_start:  [0] (1,)\n",
      "series: 0 ,count: 0 ,i: 0\n",
      "window start:  0\n",
      "window end:  98\n",
      "series: 0 ,count: 1 ,i: 1\n",
      "window start:  1\n",
      "window end:  99\n",
      "series: 0 ,count: 2 ,i: 2\n",
      "window start:  2\n",
      "window end:  100\n",
      "(359, 91, 17) (359, 7, 1)\n",
      "\n",
      " Test\n",
      "\n",
      "456\n",
      "(456, 16) (456, 16)\n",
      "time_len:  456\n",
      "1\n",
      "windows_per_series, windows_per_series.shape , input_size:  [359] (1,) 97\n",
      "data_start:  [0] (1,)\n",
      "series: 0 ,count: 0 ,i: 0\n",
      "window start:  0\n",
      "window end:  98\n",
      "series: 0 ,count: 1 ,i: 1\n",
      "window start:  1\n",
      "window end:  99\n",
      "series: 0 ,count: 2 ,i: 2\n",
      "window start:  2\n",
      "window end:  100\n",
      "(359, 91, 17) (359, 7, 1)\n",
      "1096\n",
      "(1096, 16) (1096, 16)\n",
      "time_len:  1096\n",
      "1\n",
      "windows_per_series, windows_per_series.shape , input_size:  [999] (1,) 97\n",
      "data_start:  [0] (1,)\n",
      "series: 0 ,count: 0 ,i: 0\n",
      "window start:  0\n",
      "window end:  98\n",
      "series: 0 ,count: 1 ,i: 1\n",
      "window start:  1\n",
      "window end:  99\n",
      "series: 0 ,count: 2 ,i: 2\n",
      "window start:  2\n",
      "window end:  100\n",
      "(999, 91, 17) (999, 7, 1)\n",
      "\n",
      " Validation\n",
      "\n",
      "456\n",
      "(456, 16) (456, 16)\n",
      "time_len:  456\n",
      "1\n",
      "windows_per_series, windows_per_series.shape , input_size:  [359] (1,) 97\n",
      "data_start:  [0] (1,)\n",
      "series: 0 ,count: 0 ,i: 0\n",
      "window start:  0\n",
      "window end:  98\n",
      "series: 0 ,count: 1 ,i: 1\n",
      "window start:  1\n",
      "window end:  99\n",
      "series: 0 ,count: 2 ,i: 2\n",
      "window start:  2\n",
      "window end:  100\n",
      "(359, 91, 17) (359, 7, 1)\n",
      "\n",
      " Test\n",
      "\n",
      "456\n",
      "(456, 16) (456, 16)\n",
      "time_len:  456\n",
      "1\n",
      "windows_per_series, windows_per_series.shape , input_size:  [359] (1,) 97\n",
      "data_start:  [0] (1,)\n",
      "series: 0 ,count: 0 ,i: 0\n",
      "window start:  0\n",
      "window end:  98\n",
      "series: 0 ,count: 1 ,i: 1\n",
      "window start:  1\n",
      "window end:  99\n",
      "series: 0 ,count: 2 ,i: 2\n",
      "window start:  2\n",
      "window end:  100\n",
      "(359, 91, 17) (359, 7, 1)\n",
      "1461\n",
      "(1461, 16) (1461, 16)\n",
      "time_len:  1461\n",
      "1\n",
      "windows_per_series, windows_per_series.shape , input_size:  [1364] (1,) 97\n",
      "data_start:  [0] (1,)\n",
      "series: 0 ,count: 0 ,i: 0\n",
      "window start:  0\n",
      "window end:  98\n",
      "series: 0 ,count: 1 ,i: 1\n",
      "window start:  1\n",
      "window end:  99\n",
      "series: 0 ,count: 2 ,i: 2\n",
      "window start:  2\n",
      "window end:  100\n",
      "(1364, 91, 17) (1364, 7, 1)\n",
      "\n",
      " Validation\n",
      "\n",
      "456\n",
      "(456, 16) (456, 16)\n",
      "time_len:  456\n",
      "1\n",
      "windows_per_series, windows_per_series.shape , input_size:  [359] (1,) 97\n",
      "data_start:  [0] (1,)\n",
      "series: 0 ,count: 0 ,i: 0\n",
      "window start:  0\n",
      "window end:  98\n",
      "series: 0 ,count: 1 ,i: 1\n",
      "window start:  1\n",
      "window end:  99\n",
      "series: 0 ,count: 2 ,i: 2\n",
      "window start:  2\n",
      "window end:  100\n",
      "(359, 91, 17) (359, 7, 1)\n",
      "\n",
      " Test\n",
      "\n",
      "456\n",
      "(456, 16) (456, 16)\n",
      "time_len:  456\n",
      "1\n",
      "windows_per_series, windows_per_series.shape , input_size:  [359] (1,) 97\n",
      "data_start:  [0] (1,)\n",
      "series: 0 ,count: 0 ,i: 0\n",
      "window start:  0\n",
      "window end:  98\n",
      "series: 0 ,count: 1 ,i: 1\n",
      "window start:  1\n",
      "window end:  99\n",
      "series: 0 ,count: 2 ,i: 2\n",
      "window start:  2\n",
      "window end:  100\n",
      "(359, 91, 17) (359, 7, 1)\n"
     ]
    }
   ],
   "source": [
    "kfold_prepared_data = {}\n",
    "data_frame_total = data_frame_org.copy()\n",
    "data_frame = data_frame_org.iloc[:,0:1]\n",
    "\n",
    "for index in kfold_indexes:\n",
    "\n",
    "    train_start = kfold_indexes[index]['train_start']\n",
    "    train_end = kfold_indexes[index]['train_end']\n",
    "\n",
    "    validation_start = kfold_indexes[index]['val_start']\n",
    "    validation_end = kfold_indexes[index]['val_end']\n",
    "\n",
    "    test_start = kfold_indexes[index]['test_start']\n",
    "    test_end = kfold_indexes[index]['test_end']\n",
    "\n",
    "    #train_data = data_frame[train_start:train_end].values\n",
    "    train_data = data_frame[train_start:train_end]\n",
    "    #validation_data = data_frame[validation_start:validation_end].values\n",
    "    validation_data = data_frame[validation_start:validation_end]\n",
    "    #test_data = data_frame[test_start:test_end].values\n",
    "    test_data = data_frame[test_start:test_end]\n",
    "    \n",
    "    \n",
    "    \n",
    "    data_start = (train_data.values!=0).argmax(axis=0) #find first nonzero value in each time series\n",
    "    total_time = data_frame[train_start:test_end].shape[0] #2342 days total\n",
    "    num_series = data_frame[train_start:test_end].shape[1] #1\n",
    "    \n",
    "    ##############################Generate Train Data#######################################\n",
    "    covariates = gen_covariates(data_frame_total[train_start:train_end], data_frame_total[train_start:train_end].index, num_covariates)\n",
    "    covariates = np.around(covariates,5)\n",
    "    covariates = np.float32(covariates)\n",
    "    x_input_train,label_train, pred_days_train = prep_data(train_data, covariates, data_start, train=True)\n",
    "    ########################################################################################\n",
    "\n",
    "    ### ##########################Generate validation_data#################################\n",
    "    print('\\n Validation\\n')\n",
    "    covariates = gen_covariates(data_frame_total[validation_start:validation_end], data_frame_total[validation_start:validation_end].index, num_covariates)\n",
    "    covariates = np.around(covariates,5)\n",
    "    covariates = np.float32(covariates)\n",
    "    x_input_val,label_val, pred_days_val = prep_data(validation_data, covariates, data_start, train=False)\n",
    "    ########################################################################################\n",
    "\n",
    "    ###############################Generate test_data#######################################\n",
    "    print('\\n Test\\n')\n",
    "    covariates = gen_covariates(data_frame_total[test_start:test_end], data_frame_total[test_start:test_end].index, num_covariates)\n",
    "    covariates = np.around(covariates,5)\n",
    "    covariates = np.float32(covariates)\n",
    "    x_input_test,label_test, pred_days_test = prep_data(test_data, covariates, data_start, train=False)\n",
    "    ########################################################################################\n",
    "    \n",
    "    if index not in kfold_prepared_data:\n",
    "        kfold_prepared_data[index]= {}\n",
    "        kfold_prepared_data[index]['x_input_train'] = x_input_train\n",
    "        kfold_prepared_data[index]['label_train'] = label_train\n",
    "        kfold_prepared_data[index]['prediction_day_train'] = pred_days_train\n",
    "        \n",
    "        kfold_prepared_data[index]['x_input_val'] = x_input_val\n",
    "        kfold_prepared_data[index]['label_val'] = label_val\n",
    "        kfold_prepared_data[index]['prediction_day_val'] = pred_days_val\n",
    "        \n",
    "        kfold_prepared_data[index]['x_input_test'] = x_input_test\n",
    "        kfold_prepared_data[index]['label_test'] = label_test\n",
    "        kfold_prepared_data[index]['prediction_day_test'] = pred_days_test\n",
    "        \n",
    "    #print(x_input_train.shape,label_train.shape, x_input_val.shape, label_val.shape, x_input_test.shape, label_test.shape)\n",
    "    #break"
   ]
  },
  {
   "cell_type": "markdown",
   "metadata": {},
   "source": [
    "#### Save prepared cross validate data to files"
   ]
  },
  {
   "cell_type": "code",
   "execution_count": 66,
   "metadata": {},
   "outputs": [
    {
     "name": "stdout",
     "output_type": "stream",
     "text": [
      "\n",
      "\n",
      "Fold 0\n",
      "Train (269, 91, 17) (1364, 7, 1)\n",
      "Val (359, 91, 17) (359, 7, 1)\n",
      "Test (359, 91, 17) (359, 7, 1)\n",
      "\n",
      "\n",
      "Fold 1\n",
      "Train (634, 91, 17) (1364, 7, 1)\n",
      "Val (359, 91, 17) (359, 7, 1)\n",
      "Test (359, 91, 17) (359, 7, 1)\n",
      "\n",
      "\n",
      "Fold 2\n",
      "Train (999, 91, 17) (1364, 7, 1)\n",
      "Val (359, 91, 17) (359, 7, 1)\n",
      "Test (359, 91, 17) (359, 7, 1)\n",
      "\n",
      "\n",
      "Fold 3\n",
      "Train (1364, 91, 17) (1364, 7, 1)\n",
      "Val (359, 91, 17) (359, 7, 1)\n",
      "Test (359, 91, 17) (359, 7, 1)\n"
     ]
    }
   ],
   "source": [
    "#check if there is nan\n",
    "assert not np.any(np.isnan(kfold_prepared_data[3]['x_input_train']))# check if none is in the dataset\n",
    "\n",
    "for index in kfold_prepared_data:\n",
    "\n",
    "    folder_path = os.path.join(save_path,str(index))\n",
    "    if not os.path.exists(folder_path):\n",
    "        os.makedirs(folder_path)\n",
    "\n",
    "    print('\\n\\nFold', index)\n",
    "    print('Train', kfold_prepared_data[index]['x_input_train'].shape,kfold_prepared_data[3]['label_train'].shape )\n",
    "    print('Val',kfold_prepared_data[index]['x_input_val'].shape, kfold_prepared_data[3]['label_val'].shape)\n",
    "    print('Test',kfold_prepared_data[index]['x_input_test'].shape, kfold_prepared_data[3]['label_test'].shape)\n",
    "    \n",
    "    np.save(os.path.join(folder_path, dataset+'_data_train'),  kfold_prepared_data[index]['x_input_train'])\n",
    "    np.save(os.path.join(folder_path, dataset+'_data_validation'),  kfold_prepared_data[index]['x_input_val'])\n",
    "    np.save(os.path.join(folder_path, dataset+'_data_test'),  kfold_prepared_data[index]['x_input_test'])\n",
    "    \n",
    "    np.save(os.path.join(folder_path, dataset+'_label_train'),  kfold_prepared_data[index]['label_train'])\n",
    "    np.save(os.path.join(folder_path, dataset+'_label_validation'),  kfold_prepared_data[index]['label_val'])\n",
    "    np.save(os.path.join(folder_path, dataset+'_label_test'),  kfold_prepared_data[index]['label_test'])\n",
    "    \n",
    "    np.save(os.path.join(folder_path, dataset+'_prediction_day_train'),  kfold_prepared_data[index]['prediction_day_train'])\n",
    "    np.save(os.path.join(folder_path, dataset+'_prediction_day_validation'),  kfold_prepared_data[index]['prediction_day_val'])\n",
    "    np.save(os.path.join(folder_path,dataset+'_prediction_day_test'),  kfold_prepared_data[index]['prediction_day_test'])"
   ]
  },
  {
   "cell_type": "markdown",
   "metadata": {},
   "source": [
    "#### check prepared data"
   ]
  },
  {
   "cell_type": "code",
   "execution_count": 80,
   "metadata": {
    "scrolled": true
   },
   "outputs": [
    {
     "name": "stdout",
     "output_type": "stream",
     "text": [
      "2191\n",
      "(2191, 16) (2191, 16)\n",
      "(0.2638107343399239, 3.3025061625095535e-36)\n",
      "(0.8333183390158698, 0.0)\n",
      "(0.41679570916316194, 8.080546397036663e-93)\n",
      "(0.7553264705483869, 0.0)\n",
      "(-0.4102194368366662, 1.0783754782898509e-89)\n",
      "(-0.7741342797117188, 0.0)\n",
      "(-0.40803645019083373, 1.134574386370483e-88)\n",
      "(-0.13251797262594162, 4.758847533341581e-10)\n",
      "(0.3155056221447189, 7.767737610163026e-52)\n",
      "(0.13619300004253826, 1.5421451709904127e-10)\n",
      "(0.15346906462844223, 5.110701283224865e-13)\n",
      "(0.24379777126848762, 5.182309495737407e-31)\n",
      "(nan, nan)\n"
     ]
    }
   ],
   "source": [
    "### check pearson correlation\n",
    "covariates_full = gen_covariates(data_frame_total[train_start:test_end], data_frame_total[train_start:test_end].index, num_covariates)\n",
    "#covariates.shape, x_input_train.shape\n",
    "for i in range(3,num_covariates):\n",
    "    print(pearsonr(data_frame[train_start:test_end].values[:,0],covariates_full[:,i]))"
   ]
  },
  {
   "cell_type": "code",
   "execution_count": 81,
   "metadata": {},
   "outputs": [],
   "source": [
    "def covariate_test(x_input_train, num_covariates, covariates):\n",
    "    for i in range(0,num_covariates):\n",
    "        #print('i',i)\n",
    "        if (covariates[0:(window_size-pred_days), i]==x_input_train[0, :, i+1]).all(): # check if covariates matches\n",
    "            print(\"covariates index, for prepared dataset index:\",i,i+1)\n",
    "        #print( covariates[0:95, i].shape, x_input_train[0, :, i+1].shape)"
   ]
  },
  {
   "cell_type": "code",
   "execution_count": 82,
   "metadata": {},
   "outputs": [
    {
     "name": "stdout",
     "output_type": "stream",
     "text": [
      "covariates index, for prepared dataset index: 0 1\n",
      "covariates index, for prepared dataset index: 1 2\n",
      "covariates index, for prepared dataset index: 2 3\n",
      "covariates index, for prepared dataset index: 3 4\n",
      "covariates index, for prepared dataset index: 4 5\n",
      "covariates index, for prepared dataset index: 5 6\n",
      "covariates index, for prepared dataset index: 6 7\n",
      "covariates index, for prepared dataset index: 7 8\n",
      "covariates index, for prepared dataset index: 8 9\n",
      "covariates index, for prepared dataset index: 9 10\n",
      "covariates index, for prepared dataset index: 10 11\n",
      "covariates index, for prepared dataset index: 11 12\n",
      "covariates index, for prepared dataset index: 12 13\n",
      "covariates index, for prepared dataset index: 13 14\n",
      "covariates index, for prepared dataset index: 14 15\n",
      "covariates index, for prepared dataset index: 15 16\n"
     ]
    }
   ],
   "source": [
    "covariate_test(x_input_test, num_covariates, covariates)"
   ]
  },
  {
   "cell_type": "markdown",
   "metadata": {},
   "source": [
    "#### Check sequential compatibility"
   ]
  },
  {
   "cell_type": "code",
   "execution_count": 83,
   "metadata": {},
   "outputs": [],
   "source": [
    "def sequential_test(x_input_test, num_covariates):\n",
    "    for index in range(num_covariates):\n",
    "        print(index)\n",
    "        for i,values in enumerate(x_input_test[0:2,:,index:index+1]):\n",
    "            if i!=0:\n",
    "                if (prev == values[0]):\n",
    "                    print('sequential data')\n",
    "            prev = values[1]"
   ]
  },
  {
   "cell_type": "code",
   "execution_count": 84,
   "metadata": {},
   "outputs": [
    {
     "name": "stdout",
     "output_type": "stream",
     "text": [
      "0\n",
      "sequential data\n",
      "1\n",
      "sequential data\n",
      "2\n",
      "sequential data\n",
      "3\n",
      "sequential data\n",
      "4\n",
      "sequential data\n",
      "5\n",
      "sequential data\n",
      "6\n",
      "sequential data\n",
      "7\n",
      "sequential data\n",
      "8\n",
      "sequential data\n",
      "9\n",
      "sequential data\n",
      "10\n",
      "sequential data\n",
      "11\n",
      "sequential data\n",
      "12\n",
      "sequential data\n",
      "13\n",
      "sequential data\n",
      "14\n",
      "sequential data\n",
      "15\n",
      "sequential data\n"
     ]
    }
   ],
   "source": [
    "sequential_test(x_input_test, num_covariates)"
   ]
  }
 ],
 "metadata": {
  "kernelspec": {
   "display_name": "Python 3",
   "language": "python",
   "name": "python3"
  },
  "language_info": {
   "codemirror_mode": {
    "name": "ipython",
    "version": 3
   },
   "file_extension": ".py",
   "mimetype": "text/x-python",
   "name": "python",
   "nbconvert_exporter": "python",
   "pygments_lexer": "ipython3",
   "version": "3.7.7"
  }
 },
 "nbformat": 4,
 "nbformat_minor": 4
}
