{
 "cells": [
  {
   "cell_type": "code",
   "execution_count": 1,
   "metadata": {},
   "outputs": [],
   "source": [
    "import pandas as pd\n",
    "import numpy as np\n",
    "import os\n",
    "import matplotlib\n",
    "import matplotlib.pyplot as plt\n",
    "import warnings\n",
    "import utils\n",
    "warnings.filterwarnings(\"ignore\")\n",
    "\n",
    "from scipy import stats\n",
    "from scipy.stats.stats import pearsonr   \n",
    "from pandas import read_csv\n",
    "from matplotlib import pyplot\n",
    "from statsmodels.tsa.seasonal import seasonal_decompose\n",
    "from datetime import datetime, timedelta\n",
    "\n",
    "params = utils.Params('init_params.json')"
   ]
  },
  {
   "cell_type": "code",
   "execution_count": 2,
   "metadata": {},
   "outputs": [],
   "source": [
    "csv_path = params.csv_path\n",
    "dataset = params.dataset\n",
    "window_size = params.window_size\n",
    "stride_size = params.stride_size\n",
    "num_covariates = params.num_covariates\n",
    "pred_days= params.pred_days"
   ]
  },
  {
   "cell_type": "code",
   "execution_count": 3,
   "metadata": {},
   "outputs": [],
   "source": [
    "lag= window_size-pred_days-stride_size"
   ]
  },
  {
   "cell_type": "markdown",
   "metadata": {},
   "source": [
    "### Load Data "
   ]
  },
  {
   "cell_type": "code",
   "execution_count": 4,
   "metadata": {},
   "outputs": [
    {
     "name": "stdout",
     "output_type": "stream",
     "text": [
      "Number of rows and columns: (2342, 10)\n"
     ]
    },
    {
     "data": {
      "text/html": [
       "<div>\n",
       "<style scoped>\n",
       "    .dataframe tbody tr th:only-of-type {\n",
       "        vertical-align: middle;\n",
       "    }\n",
       "\n",
       "    .dataframe tbody tr th {\n",
       "        vertical-align: top;\n",
       "    }\n",
       "\n",
       "    .dataframe thead th {\n",
       "        text-align: right;\n",
       "    }\n",
       "</style>\n",
       "<table border=\"1\" class=\"dataframe\">\n",
       "  <thead>\n",
       "    <tr style=\"text-align: right;\">\n",
       "      <th></th>\n",
       "      <th>PM2.5</th>\n",
       "      <th>PM10</th>\n",
       "      <th>SO2</th>\n",
       "      <th>CO</th>\n",
       "      <th>NOx</th>\n",
       "      <th>O3</th>\n",
       "      <th>WS</th>\n",
       "      <th>Temp</th>\n",
       "      <th>RH</th>\n",
       "      <th>RF</th>\n",
       "    </tr>\n",
       "    <tr>\n",
       "      <th>Date</th>\n",
       "      <th></th>\n",
       "      <th></th>\n",
       "      <th></th>\n",
       "      <th></th>\n",
       "      <th></th>\n",
       "      <th></th>\n",
       "      <th></th>\n",
       "      <th></th>\n",
       "      <th></th>\n",
       "      <th></th>\n",
       "    </tr>\n",
       "  </thead>\n",
       "  <tbody>\n",
       "    <tr>\n",
       "      <th>2013-01-01</th>\n",
       "      <td>240.365653</td>\n",
       "      <td>404.141923</td>\n",
       "      <td>4.0392</td>\n",
       "      <td>0.3567</td>\n",
       "      <td>19.6254</td>\n",
       "      <td>6.5769</td>\n",
       "      <td>1.3795</td>\n",
       "      <td>17.8800</td>\n",
       "      <td>69.8887</td>\n",
       "      <td>0.0583</td>\n",
       "    </tr>\n",
       "    <tr>\n",
       "      <th>2013-01-02</th>\n",
       "      <td>267.760636</td>\n",
       "      <td>447.535746</td>\n",
       "      <td>3.9436</td>\n",
       "      <td>0.3086</td>\n",
       "      <td>13.4329</td>\n",
       "      <td>4.5049</td>\n",
       "      <td>1.4104</td>\n",
       "      <td>18.6961</td>\n",
       "      <td>67.1973</td>\n",
       "      <td>0.0467</td>\n",
       "    </tr>\n",
       "    <tr>\n",
       "      <th>2013-01-03</th>\n",
       "      <td>262.088263</td>\n",
       "      <td>449.070512</td>\n",
       "      <td>3.8702</td>\n",
       "      <td>0.3405</td>\n",
       "      <td>16.0926</td>\n",
       "      <td>5.3954</td>\n",
       "      <td>1.6614</td>\n",
       "      <td>20.0829</td>\n",
       "      <td>68.4158</td>\n",
       "      <td>0.0482</td>\n",
       "    </tr>\n",
       "    <tr>\n",
       "      <th>2013-01-04</th>\n",
       "      <td>222.661851</td>\n",
       "      <td>372.724157</td>\n",
       "      <td>4.2239</td>\n",
       "      <td>0.3858</td>\n",
       "      <td>19.5855</td>\n",
       "      <td>6.5480</td>\n",
       "      <td>1.2790</td>\n",
       "      <td>20.1200</td>\n",
       "      <td>70.4625</td>\n",
       "      <td>0.0226</td>\n",
       "    </tr>\n",
       "    <tr>\n",
       "      <th>2013-01-05</th>\n",
       "      <td>164.089142</td>\n",
       "      <td>278.164502</td>\n",
       "      <td>4.0392</td>\n",
       "      <td>0.5365</td>\n",
       "      <td>31.8197</td>\n",
       "      <td>10.6209</td>\n",
       "      <td>1.3413</td>\n",
       "      <td>18.7043</td>\n",
       "      <td>62.1733</td>\n",
       "      <td>0.0200</td>\n",
       "    </tr>\n",
       "  </tbody>\n",
       "</table>\n",
       "</div>"
      ],
      "text/plain": [
       "                 PM2.5        PM10     SO2      CO      NOx       O3      WS  \\\n",
       "Date                                                                           \n",
       "2013-01-01  240.365653  404.141923  4.0392  0.3567  19.6254   6.5769  1.3795   \n",
       "2013-01-02  267.760636  447.535746  3.9436  0.3086  13.4329   4.5049  1.4104   \n",
       "2013-01-03  262.088263  449.070512  3.8702  0.3405  16.0926   5.3954  1.6614   \n",
       "2013-01-04  222.661851  372.724157  4.2239  0.3858  19.5855   6.5480  1.2790   \n",
       "2013-01-05  164.089142  278.164502  4.0392  0.5365  31.8197  10.6209  1.3413   \n",
       "\n",
       "               Temp       RH      RF  \n",
       "Date                                  \n",
       "2013-01-01  17.8800  69.8887  0.0583  \n",
       "2013-01-02  18.6961  67.1973  0.0467  \n",
       "2013-01-03  20.0829  68.4158  0.0482  \n",
       "2013-01-04  20.1200  70.4625  0.0226  \n",
       "2013-01-05  18.7043  62.1733  0.0200  "
      ]
     },
     "execution_count": 4,
     "metadata": {},
     "output_type": "execute_result"
    }
   ],
   "source": [
    "df_org=pd.read_csv(csv_path, index_col='Date', parse_dates=['Date'])\n",
    "print('Number of rows and columns:', df_org.shape)\n",
    "# Looking at the PM2.5 column\n",
    "df = df_org.copy()\n",
    "df.head(5)"
   ]
  },
  {
   "cell_type": "markdown",
   "metadata": {},
   "source": [
    "### Multiple Linear regression"
   ]
  },
  {
   "cell_type": "code",
   "execution_count": 14,
   "metadata": {},
   "outputs": [],
   "source": [
    "from sklearn import linear_model\n",
    "import statsmodels.api as sm\n",
    "from sklearn.model_selection import train_test_split\n",
    "import shap"
   ]
  },
  {
   "cell_type": "code",
   "execution_count": 49,
   "metadata": {},
   "outputs": [],
   "source": [
    "X = df[['WS','Temp','RH','RF','NOx','SO2','O3','CO']] # here we have 2 variables for multiple regression. If you just want to use one variable for simple linear regression, then use X = df['Interest_Rate'] for example.Alternatively, you may add additional variables within the brackets\n",
    "Y = df['PM2.5']\n",
    "\n",
    "# Split the data into train and test data:\n",
    "#X_train, X_test, Y_train, Y_test = train_test_split(X, Y, test_size = 0.2)\n"
   ]
  },
  {
   "cell_type": "code",
   "execution_count": 52,
   "metadata": {},
   "outputs": [],
   "source": [
    "# with statsmodels\n",
    "X = sm.add_constant(X) # adding a constant\n",
    " \n",
    "model = sm.OLS(Y, X).fit()\n",
    "predictions = model.predict(X) "
   ]
  },
  {
   "cell_type": "markdown",
   "metadata": {},
   "source": [
    "### Shap Variable Importance"
   ]
  },
  {
   "cell_type": "code",
   "execution_count": 53,
   "metadata": {},
   "outputs": [
    {
     "name": "stderr",
     "output_type": "stream",
     "text": [
      "Using 2342 background data samples could cause slower run times. Consider using shap.sample(data, K) or shap.kmeans(data, K) to summarize the background as K samples.\n"
     ]
    }
   ],
   "source": [
    "explainer = shap.KernelExplainer(model = model.predict,  data = X)"
   ]
  },
  {
   "cell_type": "code",
   "execution_count": 54,
   "metadata": {},
   "outputs": [
    {
     "data": {
      "application/vnd.jupyter.widget-view+json": {
       "model_id": "ef821c86553c428f919402a6e35b85a3",
       "version_major": 2,
       "version_minor": 0
      },
      "text/plain": [
       "  0%|          | 0/2342 [00:00<?, ?it/s]"
      ]
     },
     "metadata": {},
     "output_type": "display_data"
    },
    {
     "data": {
      "image/png": "[encoded data removed]",
      "text/plain": [
       "<Figure size 576x367.2 with 2 Axes>"
      ]
     },
     "metadata": {
      "needs_background": "light"
     },
     "output_type": "display_data"
    }
   ],
   "source": [
    "shap_values = explainer.shap_values(X, nsamples=500)\n",
    "shap.summary_plot(shap_values, X)"
   ]
  }
 ],
 "metadata": {
  "kernelspec": {
   "display_name": "Python 3",
   "language": "python",
   "name": "python3"
  },
  "language_info": {
   "codemirror_mode": {
    "name": "ipython",
    "version": 3
   },
   "file_extension": ".py",
   "mimetype": "text/x-python",
   "name": "python",
   "nbconvert_exporter": "python",
   "pygments_lexer": "ipython3",
   "version": "3.7.7"
  }
 },
 "nbformat": 4,
 "nbformat_minor": 4
}
